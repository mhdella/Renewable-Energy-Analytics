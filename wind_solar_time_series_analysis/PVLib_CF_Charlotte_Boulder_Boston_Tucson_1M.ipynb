{
 "cells": [
  {
   "cell_type": "markdown",
   "metadata": {},
   "source": [
    "The data here from Clear sky irradiance data and also the power is converted by using clear sky\n",
    "In other words no cloud data are included in the modeling. \n",
    "So the NCF is for the best outcome of PV."
   ]
  },
  {
   "cell_type": "code",
   "execution_count": 32,
   "metadata": {},
   "outputs": [],
   "source": [
    "import pandas as pd\n",
    "import matplotlib.pyplot as plt\n",
    "\n",
    "# naive_times = pd.DatetimeIndex(start='2017', end='2018', freq='1h')\n",
    "# naive_times = pd.DatetimeIndex(start='2018', end='2019', freq='1h')\n",
    "naive_times = pd.DatetimeIndex(start='2009', end='2010', freq='1h')\n",
    "# naive_times = pd.DatetimeIndex(start='2010', end='2011', freq='1h')  \n",
    "####For different years the results are changing slightly (not significant)\n",
    "\n",
    "\n",
    "# very approximate\n",
    "# latitude, longitude, name, altitude, timezone\n",
    "coordinates = [(35.2, -80.8, 'Charlotte', 232, 'Etc/GMT+4'),\n",
    "(40, -105.3, 'Boulder', 1624, 'Etc/GMT+6'),\n",
    "(42.3, -71.2, 'Boston', 43, 'Etc/GMT+4'),\n",
    "(30, -110, 'Tucson', 700, 'Etc/GMT+7')]\n",
    "\n",
    "import pvlib\n",
    "\n",
    "# get the module and inverter specifications from SAM\n",
    "sandia_modules = pvlib.pvsystem.retrieve_sam('SandiaMod')\n",
    "\n",
    "sapm_inverters = pvlib.pvsystem.retrieve_sam('cecinverter')\n",
    "\n",
    "module = sandia_modules['Canadian_Solar_CS5P_220M___2009_']\n",
    "\n",
    "inverter = sapm_inverters['ABB__MICRO_0_25_I_OUTD_US_208_208V__CEC_2014_']\n",
    "\n",
    "# specify constant ambient air temp and wind for simplicity\n",
    "temp_air = 20\n",
    "\n",
    "wind_speed = 0"
   ]
  },
  {
   "cell_type": "code",
   "execution_count": 33,
   "metadata": {},
   "outputs": [],
   "source": [
    "system = {'module': module, 'inverter': inverter,\n",
    "           'surface_azimuth': 180}\n",
    "# system\n",
    "# module"
   ]
  },
  {
   "cell_type": "code",
   "execution_count": 46,
   "metadata": {},
   "outputs": [],
   "source": [
    "from pvlib.pvsystem import PVSystem, retrieve_sam\n",
    "from pvlib.tracking import SingleAxisTracker\n",
    "\n",
    "# ##### This is for 300*15=990,000W about 1MW  (doesn't work)\n",
    "# system = {'module': module, 'inverter': inverter,\n",
    "#            'surface_azimuth': 180,\n",
    "#             modules_per_string=15,\n",
    "#             strings_per_inverter=300}\n",
    "\n",
    "##### This is for 300*15=990,000W about 1MW solar PV plant and single tracker\n",
    "\n",
    "# system = SingleAxisTracker(module_parameters=module,\n",
    "#                                inverter_parameters=inverter,\n",
    "#                                modules_per_string=15,\n",
    "#                                strings_per_inverter=300)\n",
    "# system\n",
    "\n",
    "# system=pvlib.pvsystem.PVSystem(surface_tilt=22.5,\n",
    "#                         surface_azimuth=180,\n",
    "#                         albedo=.2,\n",
    "#                         modules_per_string=30,\n",
    "#                         strings_per_inverter=100,\n",
    "#                         module_parameters=module,\n",
    "#                         inverter_parameters=inverter,\n",
    "#                         name=location.name)\n",
    "# system\n",
    "\n",
    "\n",
    "#########I thik its more easier just changed the ac power lines of the system capacity \n",
    "#########in the below cell to get this 1 MW (rather than string argument in systme)"
   ]
  },
  {
   "cell_type": "code",
   "execution_count": 47,
   "metadata": {},
   "outputs": [
    {
     "name": "stderr",
     "output_type": "stream",
     "text": [
      "C:\\Users\\Mhdella\\Anaconda3\\lib\\site-packages\\ipykernel_launcher.py:44: FutureWarning: how in .resample() is deprecated\n",
      "the new syntax is .resample(...).sum()\n"
     ]
    }
   ],
   "source": [
    "energies = {}\n",
    "ac_locs = {}\n",
    "NCF = {}  #Net Capacity Factor: Divide sum of generation by the number of periods times the system size\n",
    "# NCF_monthly=pd.DataFrame(columns=[list(range(len(coordinates)))])\n",
    "NCF_monthly={}\n",
    "\n",
    "\n",
    "for latitude, longitude, name, altitude, timezone in coordinates:\n",
    "        times = naive_times.tz_localize(timezone)\n",
    "        system['surface_tilt'] = latitude\n",
    "        solpos = pvlib.solarposition.get_solarposition(times, latitude, longitude)\n",
    "        dni_extra = pvlib.irradiance.get_extra_radiation(times)\n",
    "        airmass = pvlib.atmosphere.get_relative_airmass(solpos['apparent_zenith'])\n",
    "        pressure = pvlib.atmosphere.alt2pres(altitude)\n",
    "        am_abs = pvlib.atmosphere.get_absolute_airmass(airmass, pressure)\n",
    "        tl = pvlib.clearsky.lookup_linke_turbidity(times, latitude, longitude)\n",
    "        cs = pvlib.clearsky.ineichen(solpos['apparent_zenith'], am_abs, tl,\n",
    "                                     dni_extra=dni_extra, altitude=altitude)\n",
    "        aoi = pvlib.irradiance.aoi(system['surface_tilt'], system['surface_azimuth'],\n",
    "                                   solpos['apparent_zenith'], solpos['azimuth'])\n",
    "        total_irrad = pvlib.irradiance.get_total_irradiance(system['surface_tilt'],\n",
    "                                                            system['surface_azimuth'],\n",
    "                                                            solpos['apparent_zenith'],\n",
    "                                                            solpos['azimuth'],\n",
    "                                                            cs['dni'], cs['ghi'], cs['dhi'],\n",
    "                                                            dni_extra=dni_extra,\n",
    "                                                            model='haydavies')\n",
    "        temps = pvlib.pvsystem.sapm_celltemp(total_irrad['poa_global'],\n",
    "                                             wind_speed, temp_air)\n",
    "        effective_irradiance = pvlib.pvsystem.sapm_effective_irradiance(\n",
    "            total_irrad['poa_direct'], total_irrad['poa_diffuse'],\n",
    "            am_abs, aoi, module)\n",
    "        dc = pvlib.pvsystem.sapm(effective_irradiance, temps['temp_cell'], module)\n",
    "#         ac = pvlib.pvsystem.snlinverter(dc['v_mp'], dc['p_mp'], inverter)\n",
    "\n",
    "        ac = pvlib.pvsystem.snlinverter(dc['v_mp'], dc['p_mp'], inverter)*15*300   #to get 990000W=1MW\n",
    "\n",
    "        annual_energy = ac.sum()\n",
    "        energies[name] = annual_energy\n",
    "        interval=60\n",
    "        system_capacity=220*15*300   #to get 990000W=1MW\n",
    "        NCF[name]=annual_energy/(525600/int(interval) * system_capacity)\n",
    "        ac_locs[name]=ac\n",
    "        ac_mth_agg=ac.resample('M',how='sum')\n",
    "        ncf_mon=ac_mth_agg/((740*60)/int(interval) * system_capacity)\n",
    "        NCF_monthly[name]=pd.DataFrame(ncf_mon)"
   ]
  },
  {
   "cell_type": "code",
   "execution_count": 48,
   "metadata": {},
   "outputs": [
    {
     "data": {
      "text/plain": [
       "2009-01-01 00:00:00-07:00   -90.0\n",
       "2009-01-01 01:00:00-07:00   -90.0\n",
       "2009-01-01 02:00:00-07:00   -90.0\n",
       "2009-01-01 03:00:00-07:00   -90.0\n",
       "2009-01-01 04:00:00-07:00   -90.0\n",
       "Freq: H, dtype: float64"
      ]
     },
     "execution_count": 48,
     "metadata": {},
     "output_type": "execute_result"
    }
   ],
   "source": [
    "# cs.describe()\n",
    "# cs['ghi']#clear sky ghi\n",
    "# total_irrad.describe()\n",
    "# total_irrad['poa_global'].describe()\n",
    "\n",
    "ac.describe()   #max ac should be around 1MW =844KW  (acceptable), the plot for energy (power over a year)\n",
    "ac.head()"
   ]
  },
  {
   "cell_type": "code",
   "execution_count": 49,
   "metadata": {},
   "outputs": [
    {
     "data": {
      "image/png": "[encoded data removed]",
      "text/plain": [
       "<Figure size 432x288 with 1 Axes>"
      ]
     },
     "metadata": {
      "needs_background": "light"
     },
     "output_type": "display_data"
    }
   ],
   "source": [
    "import matplotlib.pyplot as plt\n",
    "# cs[.plot();\n",
    "cs['ghi'].plot();\n",
    "\n",
    "plt.ylabel('Irradiance ($W/m^2$)');\n",
    "plt.title('Clear Sky Solar Irradiance for {}'.format(name)); \n",
    "\n",
    "plt.legend();"
   ]
  },
  {
   "cell_type": "code",
   "execution_count": 50,
   "metadata": {},
   "outputs": [
    {
     "data": {
      "image/png": "[encoded data removed]",
      "text/plain": [
       "<Figure size 432x288 with 1 Axes>"
      ]
     },
     "metadata": {
      "needs_background": "light"
     },
     "output_type": "display_data"
    }
   ],
   "source": [
    "ac['2009-1':'2009-2'].plot();\n",
    "plt.ylabel('AC Power ($W$)');\n",
    "plt.title('Solar PV Power for {}'.format(name)); \n"
   ]
  },
  {
   "cell_type": "code",
   "execution_count": 51,
   "metadata": {},
   "outputs": [],
   "source": [
    "df_ac_locs=pd.DataFrame(ac_locs)\n",
    "df_ac_locs\n",
    "len(df_ac_locs.columns)\n",
    "df_ac_magg=pd.DataFrame(ac_mth_agg)\n",
    "# df_ac_magg\n",
    "# ac_mth_agg\n",
    "# len(df_ac_magg.columns)\n",
    "# NCF_monthly"
   ]
  },
  {
   "cell_type": "code",
   "execution_count": 52,
   "metadata": {},
   "outputs": [
    {
     "data": {
      "text/html": [
       "<div>\n",
       "<style scoped>\n",
       "    .dataframe tbody tr th:only-of-type {\n",
       "        vertical-align: middle;\n",
       "    }\n",
       "\n",
       "    .dataframe tbody tr th {\n",
       "        vertical-align: top;\n",
       "    }\n",
       "\n",
       "    .dataframe thead th {\n",
       "        text-align: right;\n",
       "    }\n",
       "</style>\n",
       "<table border=\"1\" class=\"dataframe\">\n",
       "  <thead>\n",
       "    <tr style=\"text-align: right;\">\n",
       "      <th></th>\n",
       "      <th>Energy</th>\n",
       "      <th>NCF</th>\n",
       "    </tr>\n",
       "  </thead>\n",
       "  <tbody>\n",
       "    <tr>\n",
       "      <th>Charlotte</th>\n",
       "      <td>2.007125e+09</td>\n",
       "      <td>0.231438</td>\n",
       "    </tr>\n",
       "    <tr>\n",
       "      <th>Boulder</th>\n",
       "      <td>2.212071e+09</td>\n",
       "      <td>0.255070</td>\n",
       "    </tr>\n",
       "    <tr>\n",
       "      <th>Boston</th>\n",
       "      <td>2.033482e+09</td>\n",
       "      <td>0.234477</td>\n",
       "    </tr>\n",
       "    <tr>\n",
       "      <th>Tucson</th>\n",
       "      <td>2.104736e+09</td>\n",
       "      <td>0.242694</td>\n",
       "    </tr>\n",
       "  </tbody>\n",
       "</table>\n",
       "</div>"
      ],
      "text/plain": [
       "                 Energy       NCF\n",
       "Charlotte  2.007125e+09  0.231438\n",
       "Boulder    2.212071e+09  0.255070\n",
       "Boston     2.033482e+09  0.234477\n",
       "Tucson     2.104736e+09  0.242694"
      ]
     },
     "execution_count": 52,
     "metadata": {},
     "output_type": "execute_result"
    }
   ],
   "source": [
    "#######NCF is similar of using only 1 Module 220W\n",
    "energies = pd.Series(energies)\n",
    "NCF = pd.Series(NCF)\n",
    "# based on the parameters specified above, these are in W*hrs\n",
    "# print(energies.round(0))\n",
    "decf = {'Energy':energies,'NCF':NCF}\n",
    "df_E_NCF = pd.DataFrame(decf)\n",
    "df_E_NCF\n"
   ]
  },
  {
   "cell_type": "code",
   "execution_count": 53,
   "metadata": {},
   "outputs": [
    {
     "data": {
      "text/plain": [
       "Text(0,0.5,'Yearly energy yield (W hr)')"
      ]
     },
     "execution_count": 53,
     "metadata": {},
     "output_type": "execute_result"
    },
    {
     "data": {
      "image/png": "[encoded data removed]",
      "text/plain": [
       "<Figure size 432x288 with 1 Axes>"
      ]
     },
     "metadata": {
      "needs_background": "light"
     },
     "output_type": "display_data"
    }
   ],
   "source": [
    "energies.plot(kind='bar', rot=0)\n",
    "\n",
    "plt.ylabel('Yearly energy yield (W hr)')\n"
   ]
  },
  {
   "cell_type": "code",
   "execution_count": 44,
   "metadata": {},
   "outputs": [
    {
     "data": {
      "text/plain": [
       "2104735962.6964245"
      ]
     },
     "execution_count": 44,
     "metadata": {},
     "output_type": "execute_result"
    }
   ],
   "source": [
    "energies.head()\n",
    "ac.head()\n",
    "# ac.describe()\n",
    "annual_energy"
   ]
  },
  {
   "cell_type": "code",
   "execution_count": 45,
   "metadata": {},
   "outputs": [
    {
     "data": {
      "text/plain": [
       "844663.4935509856"
      ]
     },
     "execution_count": 45,
     "metadata": {},
     "output_type": "execute_result"
    }
   ],
   "source": [
    "system_capacity=220\n",
    "max(ac)"
   ]
  },
  {
   "cell_type": "code",
   "execution_count": 11,
   "metadata": {},
   "outputs": [],
   "source": [
    "# print(ac_mth_agg) "
   ]
  },
  {
   "cell_type": "code",
   "execution_count": 12,
   "metadata": {},
   "outputs": [
    {
     "data": {
      "text/plain": [
       "2009-01-31 00:00:00-07:00    1015.573984\n",
       "2009-02-28 00:00:00-07:00    1003.338252\n",
       "2009-03-31 00:00:00-07:00    1175.831437\n",
       "2009-04-30 00:00:00-07:00    1137.719013\n",
       "2009-05-31 00:00:00-07:00    1138.670309\n",
       "2009-06-30 00:00:00-07:00    1064.769604\n",
       "2009-07-31 00:00:00-07:00    1099.650905\n",
       "2009-08-31 00:00:00-07:00    1125.103843\n",
       "2009-09-30 00:00:00-07:00    1105.659561\n",
       "2009-10-31 00:00:00-07:00    1106.720664\n",
       "2009-11-30 00:00:00-07:00     994.183208\n",
       "2009-12-31 00:00:00-07:00     961.133351\n",
       "2010-01-31 00:00:00-07:00      -0.000553\n",
       "Freq: M, dtype: float64"
      ]
     },
     "execution_count": 12,
     "metadata": {},
     "output_type": "execute_result"
    }
   ],
   "source": [
    "ac_mth_agg/((740*60)/int(interval) * system_capacity)\n",
    "#2.135943"
   ]
  },
  {
   "cell_type": "code",
   "execution_count": 13,
   "metadata": {},
   "outputs": [
    {
     "data": {
      "text/plain": [
       "{'Charlotte':                                      0\n",
       " 2009-01-31 00:00:00-04:00   950.318773\n",
       " 2009-02-28 00:00:00-04:00   973.923862\n",
       " 2009-03-31 00:00:00-04:00  1112.771242\n",
       " 2009-04-30 00:00:00-04:00  1087.852514\n",
       " 2009-05-31 00:00:00-04:00  1099.482395\n",
       " 2009-06-30 00:00:00-04:00  1029.718440\n",
       " 2009-07-31 00:00:00-04:00  1065.233627\n",
       " 2009-08-31 00:00:00-04:00  1068.402148\n",
       " 2009-09-30 00:00:00-04:00  1061.784270\n",
       " 2009-10-31 00:00:00-04:00  1063.363866\n",
       " 2009-11-30 00:00:00-04:00   931.608121\n",
       " 2009-12-31 00:00:00-04:00   884.319539\n",
       " 2010-01-31 00:00:00-04:00    -0.000553,\n",
       " 'Boulder':                                      0\n",
       " 2009-01-31 00:00:00-06:00  1031.104180\n",
       " 2009-02-28 00:00:00-06:00  1043.848260\n",
       " 2009-03-31 00:00:00-06:00  1239.594830\n",
       " 2009-04-30 00:00:00-06:00  1211.692978\n",
       " 2009-05-31 00:00:00-06:00  1212.333604\n",
       " 2009-06-30 00:00:00-06:00  1150.532700\n",
       " 2009-07-31 00:00:00-06:00  1197.937714\n",
       " 2009-08-31 00:00:00-06:00  1215.621199\n",
       " 2009-09-30 00:00:00-06:00  1164.655371\n",
       " 2009-10-31 00:00:00-06:00  1142.820900\n",
       " 2009-11-30 00:00:00-06:00  1002.850868\n",
       " 2009-12-31 00:00:00-06:00   974.668569\n",
       " 2010-01-31 00:00:00-06:00    -0.000553,\n",
       " 'Boston':                                      0\n",
       " 2009-01-31 00:00:00-04:00   934.464151\n",
       " 2009-02-28 00:00:00-04:00   961.971877\n",
       " 2009-03-31 00:00:00-04:00  1172.372676\n",
       " 2009-04-30 00:00:00-04:00  1138.537476\n",
       " 2009-05-31 00:00:00-04:00  1142.117073\n",
       " 2009-06-30 00:00:00-04:00  1069.729951\n",
       " 2009-07-31 00:00:00-04:00  1106.969446\n",
       " 2009-08-31 00:00:00-04:00  1115.203883\n",
       " 2009-09-30 00:00:00-04:00  1083.744176\n",
       " 2009-10-31 00:00:00-04:00  1053.318584\n",
       " 2009-11-30 00:00:00-04:00   863.342966\n",
       " 2009-12-31 00:00:00-04:00   848.903350\n",
       " 2010-01-31 00:00:00-04:00    -0.000553,\n",
       " 'Tucson':                                      0\n",
       " 2009-01-31 00:00:00-07:00  1015.573984\n",
       " 2009-02-28 00:00:00-07:00  1003.338252\n",
       " 2009-03-31 00:00:00-07:00  1175.831437\n",
       " 2009-04-30 00:00:00-07:00  1137.719013\n",
       " 2009-05-31 00:00:00-07:00  1138.670309\n",
       " 2009-06-30 00:00:00-07:00  1064.769604\n",
       " 2009-07-31 00:00:00-07:00  1099.650905\n",
       " 2009-08-31 00:00:00-07:00  1125.103843\n",
       " 2009-09-30 00:00:00-07:00  1105.659561\n",
       " 2009-10-31 00:00:00-07:00  1106.720664\n",
       " 2009-11-30 00:00:00-07:00   994.183208\n",
       " 2009-12-31 00:00:00-07:00   961.133351\n",
       " 2010-01-31 00:00:00-07:00    -0.000553}"
      ]
     },
     "execution_count": 13,
     "metadata": {},
     "output_type": "execute_result"
    }
   ],
   "source": [
    "NCF_monthly"
   ]
  },
  {
   "cell_type": "code",
   "execution_count": null,
   "metadata": {},
   "outputs": [],
   "source": []
  },
  {
   "cell_type": "code",
   "execution_count": null,
   "metadata": {},
   "outputs": [],
   "source": []
  },
  {
   "cell_type": "code",
   "execution_count": null,
   "metadata": {},
   "outputs": [],
   "source": []
  },
  {
   "cell_type": "code",
   "execution_count": null,
   "metadata": {},
   "outputs": [],
   "source": []
  },
  {
   "cell_type": "code",
   "execution_count": null,
   "metadata": {},
   "outputs": [],
   "source": []
  },
  {
   "cell_type": "code",
   "execution_count": null,
   "metadata": {},
   "outputs": [],
   "source": []
  },
  {
   "cell_type": "code",
   "execution_count": null,
   "metadata": {},
   "outputs": [],
   "source": []
  }
 ],
 "metadata": {
  "kernelspec": {
   "display_name": "Python 3",
   "language": "python",
   "name": "python3"
  },
  "language_info": {
   "codemirror_mode": {
    "name": "ipython",
    "version": 3
   },
   "file_extension": ".py",
   "mimetype": "text/x-python",
   "name": "python",
   "nbconvert_exporter": "python",
   "pygments_lexer": "ipython3",
   "version": "3.7.0"
  }
 },
 "nbformat": 4,
 "nbformat_minor": 2
}
