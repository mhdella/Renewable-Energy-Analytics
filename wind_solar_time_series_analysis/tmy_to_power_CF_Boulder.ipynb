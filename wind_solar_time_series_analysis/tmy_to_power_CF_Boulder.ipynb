{
 "cells": [
  {
   "cell_type": "markdown",
   "metadata": {},
   "source": [
    "# TMY to Power Tutorial\n",
    "\n",
    "This tutorial will walk through the process of going from TMY data to AC power using the SAPM.\n",
    "\n",
    "Table of contents:\n",
    "1. [Setup](#Setup)\n",
    "2. [Load TMY data](#Load-TMY-data)\n",
    "2. [Calculate modeling intermediates](#Calculate-modeling-intermediates)\n",
    "2. [DC power using SAPM](#DC-power-using-SAPM)\n",
    "2. [AC power using SAPM](#AC-power-using-SAPM)\n",
    "\n",
    "This tutorial requires pvlib >= 0.6.0.\n",
    "\n",
    "Authors:\n",
    "* Will Holmgren (@wholmgren), University of Arizona, July 2015, March 2016, August 2018.\n",
    "* Rob Andrews (@Calama-Consulting), Heliolytics, June 2014"
   ]
  },
  {
   "cell_type": "markdown",
   "metadata": {},
   "source": [
    "## Setup"
   ]
  },
  {
   "cell_type": "markdown",
   "metadata": {},
   "source": [
    "These are just your standard interactive scientific python imports that you'll get very used to using."
   ]
  },
  {
   "cell_type": "code",
   "execution_count": 1,
   "metadata": {},
   "outputs": [],
   "source": [
    "# built-in python modules\n",
    "import os\n",
    "import inspect\n",
    "\n",
    "# scientific python add-ons\n",
    "import numpy as np\n",
    "import pandas as pd\n",
    "\n",
    "# plotting stuff\n",
    "# first line makes the plots appear in the notebook\n",
    "%matplotlib inline \n",
    "import matplotlib.pyplot as plt\n",
    "import matplotlib as mpl\n",
    "\n",
    "# finally, we import the pvlib library\n",
    "import pvlib"
   ]
  },
  {
   "cell_type": "markdown",
   "metadata": {},
   "source": [
    "## Load TMY data"
   ]
  },
  {
   "cell_type": "markdown",
   "metadata": {},
   "source": [
    "pvlib comes with a couple of TMY files, and we'll use one of them for simplicity. You could also load a file from disk, or specify a url. See this NREL website for a list of TMY files:\n",
    "\n",
    "http://rredc.nrel.gov/solar/old_data/nsrdb/1991-2005/tmy3/by_state_and_city.html"
   ]
  },
  {
   "cell_type": "code",
   "execution_count": 2,
   "metadata": {},
   "outputs": [
    {
     "name": "stderr",
     "output_type": "stream",
     "text": [
      "C:\\Users\\Mhdella\\Anaconda3\\lib\\site-packages\\ipykernel_launcher.py:11: pvlibDeprecationWarning: The readtmy3 function was deprecated in pvlib 0.6.1 and will be removed in 0.7. Use iotools.read_tmy3 instead.\n",
      "  # This is added back by InteractiveShellApp.init_path()\n"
     ]
    }
   ],
   "source": [
    "# Find the absolute file path to your pvlib installation\n",
    "pvlib_abspath = os.path.dirname(os.path.abspath(inspect.getfile(pvlib)))\n",
    "\n",
    "# absolute path to a data file\n",
    "##datapath = os.path.join(pvlib_abspath, 'data', '703165TY.csv')  # Sand Point, Alaska\n",
    "# datapath = os.path.join(pvlib_abspath, 'data', '723140TY.csv')  #Charlotte, NC it is found on web or local disk\n",
    "\n",
    "datapath ='https://rredc.nrel.gov/solar/old_data/nsrdb/1991-2005/data/tmy3/724699TYA.CSV'\n",
    "\n",
    "# read tmy data with year values coerced to a single year\n",
    "tmy_data, meta = pvlib.tmy.readtmy3(datapath, coerce_year=2015)\n",
    "tmy_data.index.name = 'Time'\n",
    "\n",
    "# TMY data seems to be given as hourly data with time stamp at the end\n",
    "# shift the index 30 Minutes back for calculation of sun positions\n",
    "tmy_data = tmy_data.shift(freq='-30Min')['2015']\n",
    "# tmy_data = tmy_data.shift(freq='-30Min')['2009']\n",
    "# tmy_data = tmy_data.shift(freq='-30Min')['2010']"
   ]
  },
  {
   "cell_type": "code",
   "execution_count": 3,
   "metadata": {},
   "outputs": [
    {
     "data": {
      "text/html": [
       "<div>\n",
       "<style scoped>\n",
       "    .dataframe tbody tr th:only-of-type {\n",
       "        vertical-align: middle;\n",
       "    }\n",
       "\n",
       "    .dataframe tbody tr th {\n",
       "        vertical-align: top;\n",
       "    }\n",
       "\n",
       "    .dataframe thead th {\n",
       "        text-align: right;\n",
       "    }\n",
       "</style>\n",
       "<table border=\"1\" class=\"dataframe\">\n",
       "  <thead>\n",
       "    <tr style=\"text-align: right;\">\n",
       "      <th></th>\n",
       "      <th>ETR</th>\n",
       "      <th>ETRN</th>\n",
       "      <th>GHI</th>\n",
       "      <th>GHISource</th>\n",
       "      <th>GHIUncertainty</th>\n",
       "      <th>DNI</th>\n",
       "      <th>DNISource</th>\n",
       "      <th>DNIUncertainty</th>\n",
       "      <th>DHI</th>\n",
       "      <th>DHISource</th>\n",
       "      <th>...</th>\n",
       "      <th>PwatUncertainty</th>\n",
       "      <th>AOD</th>\n",
       "      <th>AODUncertainty</th>\n",
       "      <th>Alb</th>\n",
       "      <th>AlbUncertainty</th>\n",
       "      <th>Lprecipdepth</th>\n",
       "      <th>Lprecipquantity</th>\n",
       "      <th>LprecipUncertainty</th>\n",
       "      <th>PresWth</th>\n",
       "      <th>PresWthUncertainty</th>\n",
       "    </tr>\n",
       "  </thead>\n",
       "  <tbody>\n",
       "    <tr>\n",
       "      <th>count</th>\n",
       "      <td>8759.000000</td>\n",
       "      <td>8759.000000</td>\n",
       "      <td>8759.000000</td>\n",
       "      <td>8759.0</td>\n",
       "      <td>8759.000000</td>\n",
       "      <td>8759.000000</td>\n",
       "      <td>8759.0</td>\n",
       "      <td>8759.000000</td>\n",
       "      <td>8759.000000</td>\n",
       "      <td>8759.0</td>\n",
       "      <td>...</td>\n",
       "      <td>8759.0</td>\n",
       "      <td>8759.0</td>\n",
       "      <td>8759.0</td>\n",
       "      <td>8759.0</td>\n",
       "      <td>8759.0</td>\n",
       "      <td>8759.000000</td>\n",
       "      <td>8759.0</td>\n",
       "      <td>8759.0</td>\n",
       "      <td>8759.000000</td>\n",
       "      <td>8759.0</td>\n",
       "    </tr>\n",
       "    <tr>\n",
       "      <th>mean</th>\n",
       "      <td>329.729307</td>\n",
       "      <td>689.548807</td>\n",
       "      <td>188.902500</td>\n",
       "      <td>1.0</td>\n",
       "      <td>4.730106</td>\n",
       "      <td>229.604179</td>\n",
       "      <td>1.0</td>\n",
       "      <td>4.022263</td>\n",
       "      <td>58.147049</td>\n",
       "      <td>1.0</td>\n",
       "      <td>...</td>\n",
       "      <td>8.0</td>\n",
       "      <td>0.0</td>\n",
       "      <td>8.0</td>\n",
       "      <td>0.0</td>\n",
       "      <td>0.0</td>\n",
       "      <td>0.139970</td>\n",
       "      <td>1.0</td>\n",
       "      <td>9.0</td>\n",
       "      <td>6.764699</td>\n",
       "      <td>8.0</td>\n",
       "    </tr>\n",
       "    <tr>\n",
       "      <th>std</th>\n",
       "      <td>410.924400</td>\n",
       "      <td>660.819144</td>\n",
       "      <td>271.056792</td>\n",
       "      <td>0.0</td>\n",
       "      <td>4.802160</td>\n",
       "      <td>339.265752</td>\n",
       "      <td>0.0</td>\n",
       "      <td>3.967507</td>\n",
       "      <td>88.466098</td>\n",
       "      <td>0.0</td>\n",
       "      <td>...</td>\n",
       "      <td>0.0</td>\n",
       "      <td>0.0</td>\n",
       "      <td>0.0</td>\n",
       "      <td>0.0</td>\n",
       "      <td>0.0</td>\n",
       "      <td>2.093073</td>\n",
       "      <td>0.0</td>\n",
       "      <td>0.0</td>\n",
       "      <td>17.196950</td>\n",
       "      <td>0.0</td>\n",
       "    </tr>\n",
       "    <tr>\n",
       "      <th>min</th>\n",
       "      <td>0.000000</td>\n",
       "      <td>0.000000</td>\n",
       "      <td>0.000000</td>\n",
       "      <td>1.0</td>\n",
       "      <td>0.000000</td>\n",
       "      <td>0.000000</td>\n",
       "      <td>1.0</td>\n",
       "      <td>0.000000</td>\n",
       "      <td>0.000000</td>\n",
       "      <td>1.0</td>\n",
       "      <td>...</td>\n",
       "      <td>8.0</td>\n",
       "      <td>0.0</td>\n",
       "      <td>8.0</td>\n",
       "      <td>0.0</td>\n",
       "      <td>0.0</td>\n",
       "      <td>0.000000</td>\n",
       "      <td>1.0</td>\n",
       "      <td>9.0</td>\n",
       "      <td>0.000000</td>\n",
       "      <td>8.0</td>\n",
       "    </tr>\n",
       "    <tr>\n",
       "      <th>25%</th>\n",
       "      <td>0.000000</td>\n",
       "      <td>0.000000</td>\n",
       "      <td>0.000000</td>\n",
       "      <td>1.0</td>\n",
       "      <td>0.000000</td>\n",
       "      <td>0.000000</td>\n",
       "      <td>1.0</td>\n",
       "      <td>0.000000</td>\n",
       "      <td>0.000000</td>\n",
       "      <td>1.0</td>\n",
       "      <td>...</td>\n",
       "      <td>8.0</td>\n",
       "      <td>0.0</td>\n",
       "      <td>8.0</td>\n",
       "      <td>0.0</td>\n",
       "      <td>0.0</td>\n",
       "      <td>0.000000</td>\n",
       "      <td>1.0</td>\n",
       "      <td>9.0</td>\n",
       "      <td>0.000000</td>\n",
       "      <td>8.0</td>\n",
       "    </tr>\n",
       "    <tr>\n",
       "      <th>50%</th>\n",
       "      <td>37.000000</td>\n",
       "      <td>788.000000</td>\n",
       "      <td>11.000000</td>\n",
       "      <td>1.0</td>\n",
       "      <td>6.000000</td>\n",
       "      <td>1.000000</td>\n",
       "      <td>1.0</td>\n",
       "      <td>4.000000</td>\n",
       "      <td>7.000000</td>\n",
       "      <td>1.0</td>\n",
       "      <td>...</td>\n",
       "      <td>8.0</td>\n",
       "      <td>0.0</td>\n",
       "      <td>8.0</td>\n",
       "      <td>0.0</td>\n",
       "      <td>0.0</td>\n",
       "      <td>0.000000</td>\n",
       "      <td>1.0</td>\n",
       "      <td>9.0</td>\n",
       "      <td>0.000000</td>\n",
       "      <td>8.0</td>\n",
       "    </tr>\n",
       "    <tr>\n",
       "      <th>75%</th>\n",
       "      <td>658.000000</td>\n",
       "      <td>1351.000000</td>\n",
       "      <td>327.500000</td>\n",
       "      <td>1.0</td>\n",
       "      <td>9.000000</td>\n",
       "      <td>456.000000</td>\n",
       "      <td>1.0</td>\n",
       "      <td>9.000000</td>\n",
       "      <td>87.000000</td>\n",
       "      <td>1.0</td>\n",
       "      <td>...</td>\n",
       "      <td>8.0</td>\n",
       "      <td>0.0</td>\n",
       "      <td>8.0</td>\n",
       "      <td>0.0</td>\n",
       "      <td>0.0</td>\n",
       "      <td>0.000000</td>\n",
       "      <td>1.0</td>\n",
       "      <td>9.0</td>\n",
       "      <td>0.000000</td>\n",
       "      <td>8.0</td>\n",
       "    </tr>\n",
       "    <tr>\n",
       "      <th>max</th>\n",
       "      <td>1258.000000</td>\n",
       "      <td>1415.000000</td>\n",
       "      <td>1087.000000</td>\n",
       "      <td>1.0</td>\n",
       "      <td>13.000000</td>\n",
       "      <td>1052.000000</td>\n",
       "      <td>1.0</td>\n",
       "      <td>13.000000</td>\n",
       "      <td>522.000000</td>\n",
       "      <td>1.0</td>\n",
       "      <td>...</td>\n",
       "      <td>8.0</td>\n",
       "      <td>0.0</td>\n",
       "      <td>8.0</td>\n",
       "      <td>0.0</td>\n",
       "      <td>0.0</td>\n",
       "      <td>107.000000</td>\n",
       "      <td>1.0</td>\n",
       "      <td>9.0</td>\n",
       "      <td>95.000000</td>\n",
       "      <td>8.0</td>\n",
       "    </tr>\n",
       "  </tbody>\n",
       "</table>\n",
       "<p>8 rows × 54 columns</p>\n",
       "</div>"
      ],
      "text/plain": [
       "               ETR         ETRN          GHI  GHISource  GHIUncertainty  \\\n",
       "count  8759.000000  8759.000000  8759.000000     8759.0     8759.000000   \n",
       "mean    329.729307   689.548807   188.902500        1.0        4.730106   \n",
       "std     410.924400   660.819144   271.056792        0.0        4.802160   \n",
       "min       0.000000     0.000000     0.000000        1.0        0.000000   \n",
       "25%       0.000000     0.000000     0.000000        1.0        0.000000   \n",
       "50%      37.000000   788.000000    11.000000        1.0        6.000000   \n",
       "75%     658.000000  1351.000000   327.500000        1.0        9.000000   \n",
       "max    1258.000000  1415.000000  1087.000000        1.0       13.000000   \n",
       "\n",
       "               DNI  DNISource  DNIUncertainty          DHI  DHISource  \\\n",
       "count  8759.000000     8759.0     8759.000000  8759.000000     8759.0   \n",
       "mean    229.604179        1.0        4.022263    58.147049        1.0   \n",
       "std     339.265752        0.0        3.967507    88.466098        0.0   \n",
       "min       0.000000        1.0        0.000000     0.000000        1.0   \n",
       "25%       0.000000        1.0        0.000000     0.000000        1.0   \n",
       "50%       1.000000        1.0        4.000000     7.000000        1.0   \n",
       "75%     456.000000        1.0        9.000000    87.000000        1.0   \n",
       "max    1052.000000        1.0       13.000000   522.000000        1.0   \n",
       "\n",
       "              ...          PwatUncertainty     AOD  AODUncertainty     Alb  \\\n",
       "count         ...                   8759.0  8759.0          8759.0  8759.0   \n",
       "mean          ...                      8.0     0.0             8.0     0.0   \n",
       "std           ...                      0.0     0.0             0.0     0.0   \n",
       "min           ...                      8.0     0.0             8.0     0.0   \n",
       "25%           ...                      8.0     0.0             8.0     0.0   \n",
       "50%           ...                      8.0     0.0             8.0     0.0   \n",
       "75%           ...                      8.0     0.0             8.0     0.0   \n",
       "max           ...                      8.0     0.0             8.0     0.0   \n",
       "\n",
       "       AlbUncertainty  Lprecipdepth  Lprecipquantity  LprecipUncertainty  \\\n",
       "count          8759.0   8759.000000           8759.0              8759.0   \n",
       "mean              0.0      0.139970              1.0                 9.0   \n",
       "std               0.0      2.093073              0.0                 0.0   \n",
       "min               0.0      0.000000              1.0                 9.0   \n",
       "25%               0.0      0.000000              1.0                 9.0   \n",
       "50%               0.0      0.000000              1.0                 9.0   \n",
       "75%               0.0      0.000000              1.0                 9.0   \n",
       "max               0.0    107.000000              1.0                 9.0   \n",
       "\n",
       "           PresWth  PresWthUncertainty  \n",
       "count  8759.000000              8759.0  \n",
       "mean      6.764699                 8.0  \n",
       "std      17.196950                 0.0  \n",
       "min       0.000000                 8.0  \n",
       "25%       0.000000                 8.0  \n",
       "50%       0.000000                 8.0  \n",
       "75%       0.000000                 8.0  \n",
       "max      95.000000                 8.0  \n",
       "\n",
       "[8 rows x 54 columns]"
      ]
     },
     "execution_count": 3,
     "metadata": {},
     "output_type": "execute_result"
    }
   ],
   "source": [
    "# tmy_data.head()\n",
    "tmy_data.describe()"
   ]
  },
  {
   "cell_type": "markdown",
   "metadata": {},
   "source": [
    "### Charlotte, NC, CSV can be downloaded from NSRDB website "
   ]
  },
  {
   "cell_type": "code",
   "execution_count": 4,
   "metadata": {},
   "outputs": [],
   "source": [
    "# latitude, longitude, name, altitude, timezone\n",
    "# coordinates = [(35.2, -80.8, 'Charlotte', 232, 'Etc/GMT+4'),\n",
    "# (40, -105.3, 'Boulder', 1624, 'Etc/GMT+6'),\n",
    "# (42.3, -71.2, 'Boston', 43, 'Etc/GMT+4'),\n",
    "# (30, -110, 'Tucson', 700, 'Etc/GMT+7')]\n",
    "\n",
    "# latitude, longitude, altitude, tz, Name = 35.2, -80.8, 232, 'US/Eastern', 'Charlotte'\n",
    "# latitude, longitude, tz, Name = 40, -105.3, 1624, 'US/Mountain', 'Boulder'\n",
    "# latitude, longitude, tz, Name = 42.3, -71.2, 43, 'US/Eastern', 'Boston'\n",
    "# latitude, longitude, tz, Name = 32.2, -110.9, 700, 'US/Arizona', 'Tucson'\n",
    "\n",
    "# Location = pvlib.location.Location(latitude, longitude, tz, \n",
    "#                                      altitude, Name)\n",
    "# print(Location)"
   ]
  },
  {
   "cell_type": "code",
   "execution_count": 5,
   "metadata": {},
   "outputs": [],
   "source": [
    "# # url = 'https://rredc.nrel.gov/solar/old_data/nsrdb/1991-2005/tmy3/by_state_and_city.html'\n",
    "# url ='https://rredc.nrel.gov/solar/old_data/nsrdb/1991-2005/data/tmy3/723140TYA.CSV'\n",
    "# # Return just the first 2 lines to get metadata:\n",
    "# info = pd.read_csv(url, nrows=1)\n",
    "# info\n",
    "# # # get data\n",
    "# df = pd.read_csv(url, skiprows=1)\n",
    "# tmy_data=df\n",
    "# # tmy_data = tmy_data.shift(freq='-30Min')['2015']\n",
    "# tmy_data, meta = pvlib.tmy.readtmy3(datapath, coerce_year=2015)\n",
    "# tmy_data.index.name = 'Time'"
   ]
  },
  {
   "cell_type": "markdown",
   "metadata": {},
   "source": [
    "The file handling above looks complicated because we're trying to account for the many different ways that people will run this notebook on their systems. You can just put a simple string path into the ``readtmy3`` function if you know where the file is."
   ]
  },
  {
   "cell_type": "markdown",
   "metadata": {},
   "source": [
    "Let's look at the imported version of the TMY file."
   ]
  },
  {
   "cell_type": "markdown",
   "metadata": {},
   "source": [
    "This is a ``pandas DataFrame`` object. It has a lot of great properties that are beyond the scope of our tutorials."
   ]
  },
  {
   "cell_type": "markdown",
   "metadata": {},
   "source": [
    "Plot the GHI data from the TMY file"
   ]
  },
  {
   "cell_type": "code",
   "execution_count": 6,
   "metadata": {},
   "outputs": [
    {
     "data": {
      "text/plain": [
       "Text(0,0.5,'Irradiance (W/m**2)')"
      ]
     },
     "execution_count": 6,
     "metadata": {},
     "output_type": "execute_result"
    },
    {
     "data": {
      "image/png": "[encoded data removed]",
      "text/plain": [
       "<Figure size 432x288 with 1 Axes>"
      ]
     },
     "metadata": {
      "needs_background": "light"
     },
     "output_type": "display_data"
    }
   ],
   "source": [
    "tmy_data['GHI'].plot()\n",
    "plt.ylabel('Irradiance (W/m**2)')"
   ]
  },
  {
   "cell_type": "markdown",
   "metadata": {},
   "source": [
    "## Calculate modeling intermediates"
   ]
  },
  {
   "cell_type": "markdown",
   "metadata": {},
   "source": [
    "Before we can calculate power for all times in the TMY file, we will need to calculate:\n",
    "* solar position \n",
    "* extra terrestrial radiation\n",
    "* airmass\n",
    "* angle of incidence\n",
    "* POA sky and ground diffuse radiation\n",
    "* cell and module temperatures"
   ]
  },
  {
   "cell_type": "markdown",
   "metadata": {},
   "source": [
    "First, define some PV system parameters."
   ]
  },
  {
   "cell_type": "code",
   "execution_count": 7,
   "metadata": {},
   "outputs": [
    {
     "name": "stdout",
     "output_type": "stream",
     "text": [
      "Location: \n",
      "  name: BROOMFIELD/JEFFCO [BOULDER - SURFRAD]\n",
      "  latitude: 40.13\n",
      "  longitude: -105.24\n",
      "  altitude: 1689.0\n",
      "  tz: US/Alaska\n"
     ]
    }
   ],
   "source": [
    "surface_tilt = 30\n",
    "surface_azimuth = 180 # pvlib uses 0=North, 90=East, 180=South, 270=West convention\n",
    "albedo = 0.2\n",
    "# print(sand_point)\n",
    "sand_point = pvlib.location.Location(meta['latitude'], meta['longitude'], tz='US/Alaska', \n",
    "                                     altitude=meta['altitude'], name=meta['Name'].replace('\"',''))\n",
    "print(sand_point)"
   ]
  },
  {
   "cell_type": "markdown",
   "metadata": {},
   "source": [
    "### Solar position"
   ]
  },
  {
   "cell_type": "markdown",
   "metadata": {},
   "source": [
    "Calculate the solar position for all times in the TMY file. \n",
    "\n",
    "The default solar position algorithm is based on Reda and Andreas (2004). Our implementation is pretty fast, but you can make it even faster if you install [``numba``](http://numba.pydata.org/#installing) and use add  ``method='nrel_numba'`` to the function call below."
   ]
  },
  {
   "cell_type": "code",
   "execution_count": 8,
   "metadata": {},
   "outputs": [
    {
     "name": "stdout",
     "output_type": "stream",
     "text": [
      "DatetimeIndex(['2015-01-01 00:30:00-07:00', '2015-01-01 01:30:00-07:00',\n",
      "               '2015-01-01 02:30:00-07:00', '2015-01-01 03:30:00-07:00',\n",
      "               '2015-01-01 04:30:00-07:00', '2015-01-01 05:30:00-07:00',\n",
      "               '2015-01-01 06:30:00-07:00', '2015-01-01 07:30:00-07:00',\n",
      "               '2015-01-01 08:30:00-07:00', '2015-01-01 09:30:00-07:00',\n",
      "               ...\n",
      "               '2015-12-31 13:30:00-07:00', '2015-12-31 14:30:00-07:00',\n",
      "               '2015-12-31 15:30:00-07:00', '2015-12-31 16:30:00-07:00',\n",
      "               '2015-12-31 17:30:00-07:00', '2015-12-31 18:30:00-07:00',\n",
      "               '2015-12-31 19:30:00-07:00', '2015-12-31 20:30:00-07:00',\n",
      "               '2015-12-31 21:30:00-07:00', '2015-12-31 22:30:00-07:00'],\n",
      "              dtype='datetime64[ns, pytz.FixedOffset(-420)]', name='Time', length=8759, freq=None)\n"
     ]
    }
   ],
   "source": [
    "print(tmy_data.index)"
   ]
  },
  {
   "cell_type": "code",
   "execution_count": 9,
   "metadata": {},
   "outputs": [
    {
     "data": {
      "text/plain": [
       "<matplotlib.axes._subplots.AxesSubplot at 0x294323e6cc0>"
      ]
     },
     "execution_count": 9,
     "metadata": {},
     "output_type": "execute_result"
    },
    {
     "data": {
      "image/png": "[encoded data removed]",
      "text/plain": [
       "<Figure size 432x288 with 1 Axes>"
      ]
     },
     "metadata": {
      "needs_background": "light"
     },
     "output_type": "display_data"
    }
   ],
   "source": [
    "solpos = pvlib.solarposition.get_solarposition(tmy_data.index, sand_point.latitude, sand_point.longitude)\n",
    "\n",
    "solpos.plot()"
   ]
  },
  {
   "cell_type": "markdown",
   "metadata": {},
   "source": [
    "The funny looking jump in the azimuth is just due to the coarse time sampling in the TMY file."
   ]
  },
  {
   "cell_type": "markdown",
   "metadata": {},
   "source": [
    "### DNI ET\n",
    "\n",
    "Calculate extra terrestrial radiation. This is needed for many plane of array diffuse irradiance models."
   ]
  },
  {
   "cell_type": "code",
   "execution_count": 10,
   "metadata": {},
   "outputs": [
    {
     "data": {
      "text/plain": [
       "Text(0,0.5,'Extra terrestrial radiation (W/m**2)')"
      ]
     },
     "execution_count": 10,
     "metadata": {},
     "output_type": "execute_result"
    },
    {
     "data": {
      "image/png": "[encoded data removed]",
      "text/plain": [
       "<Figure size 432x288 with 1 Axes>"
      ]
     },
     "metadata": {
      "needs_background": "light"
     },
     "output_type": "display_data"
    }
   ],
   "source": [
    "# the extraradiation function returns a simple numpy array\n",
    "# instead of a nice pandas series. We will change this\n",
    "# in a future version\n",
    "dni_extra = pvlib.irradiance.get_extra_radiation(tmy_data.index)\n",
    "dni_extra = pd.Series(dni_extra, index=tmy_data.index)\n",
    "\n",
    "dni_extra.plot()\n",
    "plt.ylabel('Extra terrestrial radiation (W/m**2)')"
   ]
  },
  {
   "cell_type": "markdown",
   "metadata": {},
   "source": [
    "### Airmass\n",
    "\n",
    "Calculate airmass. Lots of model options here, see the ``atmosphere`` module tutorial for more details."
   ]
  },
  {
   "cell_type": "code",
   "execution_count": 11,
   "metadata": {},
   "outputs": [
    {
     "data": {
      "text/plain": [
       "Text(0,0.5,'Airmass')"
      ]
     },
     "execution_count": 11,
     "metadata": {},
     "output_type": "execute_result"
    },
    {
     "data": {
      "image/png": "[encoded data removed]",
      "text/plain": [
       "<Figure size 432x288 with 1 Axes>"
      ]
     },
     "metadata": {
      "needs_background": "light"
     },
     "output_type": "display_data"
    }
   ],
   "source": [
    "airmass = pvlib.atmosphere.get_relative_airmass(solpos['apparent_zenith'])\n",
    "\n",
    "airmass.plot()\n",
    "plt.ylabel('Airmass')"
   ]
  },
  {
   "cell_type": "markdown",
   "metadata": {},
   "source": [
    "The funny appearance is due to aliasing and setting invalid numbers equal to ``NaN``. Replot just a day or two and you'll see that the numbers are right."
   ]
  },
  {
   "cell_type": "markdown",
   "metadata": {},
   "source": [
    "### POA sky diffuse"
   ]
  },
  {
   "cell_type": "markdown",
   "metadata": {},
   "source": [
    "Use the Hay Davies model to calculate the plane of array diffuse sky radiation. See the ``irradiance`` module tutorial for comparisons of different models."
   ]
  },
  {
   "cell_type": "code",
   "execution_count": 12,
   "metadata": {},
   "outputs": [
    {
     "data": {
      "text/plain": [
       "Text(0,0.5,'Irradiance (W/m**2)')"
      ]
     },
     "execution_count": 12,
     "metadata": {},
     "output_type": "execute_result"
    },
    {
     "data": {
      "image/png": "[encoded data removed]",
      "text/plain": [
       "<Figure size 432x288 with 1 Axes>"
      ]
     },
     "metadata": {
      "needs_background": "light"
     },
     "output_type": "display_data"
    }
   ],
   "source": [
    "poa_sky_diffuse = pvlib.irradiance.haydavies(surface_tilt, surface_azimuth,\n",
    "                                             tmy_data['DHI'], tmy_data['DNI'], dni_extra,\n",
    "                                             solpos['apparent_zenith'], solpos['azimuth'])\n",
    "\n",
    "poa_sky_diffuse.plot()\n",
    "plt.ylabel('Irradiance (W/m**2)')"
   ]
  },
  {
   "cell_type": "markdown",
   "metadata": {},
   "source": [
    "### POA ground diffuse\n",
    "\n",
    "Calculate ground diffuse. We specified the albedo above. You could have also provided a string to the ``surface_type`` keyword argument."
   ]
  },
  {
   "cell_type": "code",
   "execution_count": 13,
   "metadata": {},
   "outputs": [
    {
     "data": {
      "text/plain": [
       "Text(0,0.5,'Irradiance (W/m**2)')"
      ]
     },
     "execution_count": 13,
     "metadata": {},
     "output_type": "execute_result"
    },
    {
     "data": {
      "image/png": "[encoded data removed]",
      "text/plain": [
       "<Figure size 432x288 with 1 Axes>"
      ]
     },
     "metadata": {
      "needs_background": "light"
     },
     "output_type": "display_data"
    }
   ],
   "source": [
    "poa_ground_diffuse = pvlib.irradiance.get_ground_diffuse(surface_tilt, tmy_data['GHI'], albedo=albedo)\n",
    "\n",
    "poa_ground_diffuse.plot()\n",
    "plt.ylabel('Irradiance (W/m**2)')"
   ]
  },
  {
   "cell_type": "markdown",
   "metadata": {},
   "source": [
    "### AOI\n",
    "\n",
    "Calculate AOI"
   ]
  },
  {
   "cell_type": "code",
   "execution_count": 14,
   "metadata": {},
   "outputs": [
    {
     "data": {
      "text/plain": [
       "Text(0,0.5,'Angle of incidence (deg)')"
      ]
     },
     "execution_count": 14,
     "metadata": {},
     "output_type": "execute_result"
    },
    {
     "data": {
      "image/png": "[encoded data removed]",
      "text/plain": [
       "<Figure size 432x288 with 1 Axes>"
      ]
     },
     "metadata": {
      "needs_background": "light"
     },
     "output_type": "display_data"
    }
   ],
   "source": [
    "aoi = pvlib.irradiance.aoi(surface_tilt, surface_azimuth, solpos['apparent_zenith'], solpos['azimuth'])\n",
    "\n",
    "aoi.plot()\n",
    "plt.ylabel('Angle of incidence (deg)')"
   ]
  },
  {
   "cell_type": "markdown",
   "metadata": {},
   "source": [
    "Note that AOI has values greater than 90 deg. This is ok."
   ]
  },
  {
   "cell_type": "markdown",
   "metadata": {},
   "source": [
    "### POA total\n",
    "\n",
    "Calculate POA irradiance"
   ]
  },
  {
   "cell_type": "code",
   "execution_count": 15,
   "metadata": {},
   "outputs": [
    {
     "data": {
      "text/plain": [
       "Text(0.5,1,'POA Irradiance')"
      ]
     },
     "execution_count": 15,
     "metadata": {},
     "output_type": "execute_result"
    },
    {
     "data": {
      "image/png": "[encoded data removed]",
      "text/plain": [
       "<Figure size 432x288 with 1 Axes>"
      ]
     },
     "metadata": {
      "needs_background": "light"
     },
     "output_type": "display_data"
    }
   ],
   "source": [
    "poa_irrad = pvlib.irradiance.poa_components(aoi, tmy_data['DNI'], poa_sky_diffuse, poa_ground_diffuse)\n",
    "\n",
    "poa_irrad.plot()\n",
    "plt.ylabel('Irradiance (W/m**2)')\n",
    "plt.title('POA Irradiance')"
   ]
  },
  {
   "cell_type": "markdown",
   "metadata": {},
   "source": [
    "### Cell and module temperature\n",
    "\n",
    "Calculate pv cell and module temperature"
   ]
  },
  {
   "cell_type": "code",
   "execution_count": 16,
   "metadata": {},
   "outputs": [
    {
     "data": {
      "text/plain": [
       "Text(0,0.5,'Temperature (C)')"
      ]
     },
     "execution_count": 16,
     "metadata": {},
     "output_type": "execute_result"
    },
    {
     "data": {
      "image/png": "[encoded data removed]",
      "text/plain": [
       "<Figure size 432x288 with 1 Axes>"
      ]
     },
     "metadata": {
      "needs_background": "light"
     },
     "output_type": "display_data"
    }
   ],
   "source": [
    "pvtemps = pvlib.pvsystem.sapm_celltemp(poa_irrad['poa_global'], tmy_data['Wspd'], tmy_data['DryBulb'])\n",
    "\n",
    "pvtemps.plot()\n",
    "plt.ylabel('Temperature (C)')"
   ]
  },
  {
   "cell_type": "markdown",
   "metadata": {},
   "source": [
    "## DC power using SAPM"
   ]
  },
  {
   "cell_type": "markdown",
   "metadata": {},
   "source": [
    "Get module data."
   ]
  },
  {
   "cell_type": "code",
   "execution_count": 17,
   "metadata": {},
   "outputs": [],
   "source": [
    "sandia_modules = pvlib.pvsystem.retrieve_sam(name='SandiaMod')"
   ]
  },
  {
   "cell_type": "markdown",
   "metadata": {},
   "source": [
    "Choose a particular module"
   ]
  },
  {
   "cell_type": "code",
   "execution_count": 18,
   "metadata": {},
   "outputs": [],
   "source": [
    "sandia_module = sandia_modules.Canadian_Solar_CS5P_220M___2009_\n",
    "# sandia_module"
   ]
  },
  {
   "cell_type": "markdown",
   "metadata": {},
   "source": [
    "\n",
    "Calculate the effective irradiance"
   ]
  },
  {
   "cell_type": "code",
   "execution_count": 19,
   "metadata": {},
   "outputs": [],
   "source": [
    "effective_irradiance = pvlib.pvsystem.sapm_effective_irradiance(poa_irrad.poa_direct, poa_irrad.poa_diffuse, airmass, aoi, sandia_module)"
   ]
  },
  {
   "cell_type": "markdown",
   "metadata": {},
   "source": [
    "Run the SAPM using the parameters we calculated above."
   ]
  },
  {
   "cell_type": "code",
   "execution_count": 20,
   "metadata": {},
   "outputs": [
    {
     "name": "stdout",
     "output_type": "stream",
     "text": [
      "                           i_sc  i_mp  v_oc  v_mp  p_mp  i_x  i_xx\n",
      "Time                                                              \n",
      "2015-01-01 00:30:00-07:00   0.0   0.0   0.0   0.0   0.0  0.0   0.0\n",
      "2015-01-01 01:30:00-07:00   0.0   0.0   0.0   0.0   0.0  0.0   0.0\n",
      "2015-01-01 02:30:00-07:00   0.0   0.0   0.0   0.0   0.0  0.0   0.0\n",
      "2015-01-01 03:30:00-07:00   0.0   0.0   0.0   0.0   0.0  0.0   0.0\n",
      "2015-01-01 04:30:00-07:00   0.0   0.0   0.0   0.0   0.0  0.0   0.0\n"
     ]
    },
    {
     "data": {
      "text/plain": [
       "Text(0,0.5,'DC Power (W)')"
      ]
     },
     "execution_count": 20,
     "metadata": {},
     "output_type": "execute_result"
    },
    {
     "data": {
      "image/png": "[encoded data removed]",
      "text/plain": [
       "<Figure size 432x288 with 1 Axes>"
      ]
     },
     "metadata": {
      "needs_background": "light"
     },
     "output_type": "display_data"
    }
   ],
   "source": [
    "sapm_out = pvlib.pvsystem.sapm(effective_irradiance, pvtemps.temp_cell, sandia_module)\n",
    "print(sapm_out.head())\n",
    "\n",
    "sapm_out[['p_mp']].plot()\n",
    "plt.ylabel('DC Power (W)')"
   ]
  },
  {
   "cell_type": "markdown",
   "metadata": {},
   "source": [
    "## DC power using single diode"
   ]
  },
  {
   "cell_type": "code",
   "execution_count": 21,
   "metadata": {},
   "outputs": [],
   "source": [
    "cec_modules = pvlib.pvsystem.retrieve_sam(name='CECMod')\n",
    "cec_module = cec_modules.Canadian_Solar_CS5P_220M"
   ]
  },
  {
   "cell_type": "code",
   "execution_count": 22,
   "metadata": {},
   "outputs": [],
   "source": [
    "d = {k: cec_module[k] for k in ['a_ref', 'I_L_ref', 'I_o_ref', 'R_sh_ref', 'R_s']}"
   ]
  },
  {
   "cell_type": "code",
   "execution_count": 23,
   "metadata": {},
   "outputs": [],
   "source": [
    "photocurrent, saturation_current, resistance_series, resistance_shunt, nNsVth = (\n",
    "    pvlib.pvsystem.calcparams_desoto(poa_irrad.poa_global,\n",
    "                                 pvtemps['temp_cell'],\n",
    "                                 cec_module['alpha_sc'],\n",
    "                                 EgRef=1.121,\n",
    "                                 dEgdT=-0.0002677, **d))"
   ]
  },
  {
   "cell_type": "code",
   "execution_count": 24,
   "metadata": {},
   "outputs": [],
   "source": [
    "single_diode_out = pvlib.pvsystem.singlediode(photocurrent, saturation_current,\n",
    "                                              resistance_series, resistance_shunt, nNsVth)"
   ]
  },
  {
   "cell_type": "code",
   "execution_count": 25,
   "metadata": {},
   "outputs": [
    {
     "data": {
      "text/plain": [
       "Text(0,0.5,'DC Power (W)')"
      ]
     },
     "execution_count": 25,
     "metadata": {},
     "output_type": "execute_result"
    },
    {
     "data": {
      "image/png": "[encoded data removed]",
      "text/plain": [
       "<Figure size 432x288 with 1 Axes>"
      ]
     },
     "metadata": {
      "needs_background": "light"
     },
     "output_type": "display_data"
    }
   ],
   "source": [
    "single_diode_out[['p_mp']].plot()\n",
    "plt.ylabel('DC Power (W)')"
   ]
  },
  {
   "cell_type": "markdown",
   "metadata": {},
   "source": [
    "## AC power using SAPM"
   ]
  },
  {
   "cell_type": "markdown",
   "metadata": {},
   "source": [
    "Get the inverter database from the web"
   ]
  },
  {
   "cell_type": "code",
   "execution_count": 26,
   "metadata": {},
   "outputs": [],
   "source": [
    "sapm_inverters = pvlib.pvsystem.retrieve_sam('sandiainverter')"
   ]
  },
  {
   "cell_type": "markdown",
   "metadata": {},
   "source": [
    "Choose a particular inverter"
   ]
  },
  {
   "cell_type": "code",
   "execution_count": 27,
   "metadata": {},
   "outputs": [
    {
     "data": {
      "text/plain": [
       "Vac          208.000000\n",
       "Paco         250.000000\n",
       "Pdco         259.522050\n",
       "Vdco          40.242603\n",
       "Pso            1.771614\n",
       "C0            -0.000025\n",
       "C1            -0.000090\n",
       "C2             0.000669\n",
       "C3            -0.018900\n",
       "Pnt            0.020000\n",
       "Vdcmax        65.000000\n",
       "Idcmax        10.000000\n",
       "Mppt_low      20.000000\n",
       "Mppt_high     50.000000\n",
       "Name: ABB__MICRO_0_25_I_OUTD_US_208_208V__CEC_2014_, dtype: float64"
      ]
     },
     "execution_count": 27,
     "metadata": {},
     "output_type": "execute_result"
    }
   ],
   "source": [
    "sapm_inverter = sapm_inverters['ABB__MICRO_0_25_I_OUTD_US_208_208V__CEC_2014_']\n",
    "sapm_inverter"
   ]
  },
  {
   "cell_type": "code",
   "execution_count": 28,
   "metadata": {},
   "outputs": [
    {
     "data": {
      "text/plain": [
       "Text(0,0.5,'AC Power (W)')"
      ]
     },
     "execution_count": 28,
     "metadata": {},
     "output_type": "execute_result"
    },
    {
     "data": {
      "image/png": "[encoded data removed]",
      "text/plain": [
       "<Figure size 432x288 with 1 Axes>"
      ]
     },
     "metadata": {
      "needs_background": "light"
     },
     "output_type": "display_data"
    }
   ],
   "source": [
    "p_acs = pd.DataFrame()\n",
    "p_acs['sapm'] = pvlib.pvsystem.snlinverter(sapm_out.v_mp, sapm_out.p_mp, sapm_inverter)\n",
    "p_acs['sd'] = pvlib.pvsystem.snlinverter(single_diode_out.v_mp, single_diode_out.p_mp, sapm_inverter)\n",
    "\n",
    "p_acs.plot()\n",
    "plt.ylabel('AC Power (W)')"
   ]
  },
  {
   "cell_type": "code",
   "execution_count": 29,
   "metadata": {},
   "outputs": [
    {
     "data": {
      "text/plain": [
       "Text(0,0.5,'SAPM - SD Power (W)')"
      ]
     },
     "execution_count": 29,
     "metadata": {},
     "output_type": "execute_result"
    },
    {
     "data": {
      "image/png": "[encoded data removed]",
      "text/plain": [
       "<Figure size 432x288 with 1 Axes>"
      ]
     },
     "metadata": {
      "needs_background": "light"
     },
     "output_type": "display_data"
    }
   ],
   "source": [
    "diff = p_acs['sapm'] - p_acs['sd']\n",
    "diff.plot()\n",
    "plt.ylabel('SAPM - SD Power (W)')"
   ]
  },
  {
   "cell_type": "markdown",
   "metadata": {},
   "source": [
    "Plot just a few days."
   ]
  },
  {
   "cell_type": "code",
   "execution_count": 30,
   "metadata": {},
   "outputs": [
    {
     "data": {
      "text/plain": [
       "<matplotlib.axes._subplots.AxesSubplot at 0x294352f1a20>"
      ]
     },
     "execution_count": 30,
     "metadata": {},
     "output_type": "execute_result"
    },
    {
     "data": {
      "image/png": "[encoded data removed]",
      "text/plain": [
       "<Figure size 432x288 with 1 Axes>"
      ]
     },
     "metadata": {
      "needs_background": "light"
     },
     "output_type": "display_data"
    }
   ],
   "source": [
    "p_acs.loc['2015-07-05':'2015-07-06'].plot()\n",
    "# p_acs.loc['2009-07-05':'2009-07-06'].plot()\n",
    "# p_acs.loc['2010-07-05':'2010-07-06'].plot()"
   ]
  },
  {
   "cell_type": "markdown",
   "metadata": {},
   "source": [
    "Some statistics on the AC power"
   ]
  },
  {
   "cell_type": "code",
   "execution_count": 31,
   "metadata": {
    "scrolled": true
   },
   "outputs": [
    {
     "data": {
      "text/html": [
       "<div>\n",
       "<style scoped>\n",
       "    .dataframe tbody tr th:only-of-type {\n",
       "        vertical-align: middle;\n",
       "    }\n",
       "\n",
       "    .dataframe tbody tr th {\n",
       "        vertical-align: top;\n",
       "    }\n",
       "\n",
       "    .dataframe thead th {\n",
       "        text-align: right;\n",
       "    }\n",
       "</style>\n",
       "<table border=\"1\" class=\"dataframe\">\n",
       "  <thead>\n",
       "    <tr style=\"text-align: right;\">\n",
       "      <th></th>\n",
       "      <th>sapm</th>\n",
       "      <th>sd</th>\n",
       "    </tr>\n",
       "  </thead>\n",
       "  <tbody>\n",
       "    <tr>\n",
       "      <th>count</th>\n",
       "      <td>8759.000000</td>\n",
       "      <td>8759.000000</td>\n",
       "    </tr>\n",
       "    <tr>\n",
       "      <th>mean</th>\n",
       "      <td>42.506493</td>\n",
       "      <td>43.993726</td>\n",
       "    </tr>\n",
       "    <tr>\n",
       "      <th>std</th>\n",
       "      <td>62.284882</td>\n",
       "      <td>62.686836</td>\n",
       "    </tr>\n",
       "    <tr>\n",
       "      <th>min</th>\n",
       "      <td>-0.020000</td>\n",
       "      <td>-0.020000</td>\n",
       "    </tr>\n",
       "    <tr>\n",
       "      <th>25%</th>\n",
       "      <td>-0.020000</td>\n",
       "      <td>-0.020000</td>\n",
       "    </tr>\n",
       "    <tr>\n",
       "      <th>50%</th>\n",
       "      <td>-0.020000</td>\n",
       "      <td>-0.020000</td>\n",
       "    </tr>\n",
       "    <tr>\n",
       "      <th>75%</th>\n",
       "      <td>75.282221</td>\n",
       "      <td>80.590338</td>\n",
       "    </tr>\n",
       "    <tr>\n",
       "      <th>max</th>\n",
       "      <td>236.310839</td>\n",
       "      <td>232.461427</td>\n",
       "    </tr>\n",
       "  </tbody>\n",
       "</table>\n",
       "</div>"
      ],
      "text/plain": [
       "              sapm           sd\n",
       "count  8759.000000  8759.000000\n",
       "mean     42.506493    43.993726\n",
       "std      62.284882    62.686836\n",
       "min      -0.020000    -0.020000\n",
       "25%      -0.020000    -0.020000\n",
       "50%      -0.020000    -0.020000\n",
       "75%      75.282221    80.590338\n",
       "max     236.310839   232.461427"
      ]
     },
     "execution_count": 31,
     "metadata": {},
     "output_type": "execute_result"
    }
   ],
   "source": [
    "p_acs.describe()"
   ]
  },
  {
   "cell_type": "code",
   "execution_count": 32,
   "metadata": {},
   "outputs": [
    {
     "data": {
      "text/plain": [
       "sapm    372314.375413\n",
       "sd      385341.046141\n",
       "dtype: float64"
      ]
     },
     "execution_count": 32,
     "metadata": {},
     "output_type": "execute_result"
    }
   ],
   "source": [
    "p_acs.sum()"
   ]
  },
  {
   "cell_type": "code",
   "execution_count": 41,
   "metadata": {},
   "outputs": [
    {
     "data": {
      "text/html": [
       "<div>\n",
       "<style scoped>\n",
       "    .dataframe tbody tr th:only-of-type {\n",
       "        vertical-align: middle;\n",
       "    }\n",
       "\n",
       "    .dataframe tbody tr th {\n",
       "        vertical-align: top;\n",
       "    }\n",
       "\n",
       "    .dataframe thead th {\n",
       "        text-align: right;\n",
       "    }\n",
       "</style>\n",
       "<table border=\"1\" class=\"dataframe\">\n",
       "  <thead>\n",
       "    <tr style=\"text-align: right;\">\n",
       "      <th></th>\n",
       "      <th>Energy</th>\n",
       "      <th>NCF</th>\n",
       "    </tr>\n",
       "  </thead>\n",
       "  <tbody>\n",
       "    <tr>\n",
       "      <th>0</th>\n",
       "      <td>385341.046141</td>\n",
       "      <td>0.199949</td>\n",
       "    </tr>\n",
       "  </tbody>\n",
       "</table>\n",
       "</div>"
      ],
      "text/plain": [
       "          Energy       NCF\n",
       "0  385341.046141  0.199949"
      ]
     },
     "execution_count": 41,
     "metadata": {},
     "output_type": "execute_result"
    }
   ],
   "source": [
    "system_capacity=220\n",
    "interval=60\n",
    "NCF=p_acs.sum()/(525600/int(interval) * system_capacity)\n",
    "NCF\n",
    "\n",
    "pd.DataFrame({'Energy': [p_acs.sd.sum()], 'NCF':NCF.sd})"
   ]
  },
  {
   "cell_type": "code",
   "execution_count": 34,
   "metadata": {},
   "outputs": [
    {
     "data": {
      "text/plain": [
       "729.9166666666666"
      ]
     },
     "execution_count": 34,
     "metadata": {},
     "output_type": "execute_result"
    }
   ],
   "source": [
    "PAC=p_acs.sd\n",
    "Pac_mnth = p_acs.groupby([lambda p_acs: p_acs.year, lambda p_acs: p_acs.month]).sum()\n",
    "Pac_mnth\n",
    "cnt_hrs=p_acs.resample('M').count()\n",
    "cnt_hrs.sd.mean()\n",
    "# Pac_mnt"
   ]
  },
  {
   "cell_type": "code",
   "execution_count": 40,
   "metadata": {},
   "outputs": [
    {
     "data": {
      "text/html": [
       "<div>\n",
       "<style scoped>\n",
       "    .dataframe tbody tr th:only-of-type {\n",
       "        vertical-align: middle;\n",
       "    }\n",
       "\n",
       "    .dataframe tbody tr th {\n",
       "        vertical-align: top;\n",
       "    }\n",
       "\n",
       "    .dataframe thead th {\n",
       "        text-align: right;\n",
       "    }\n",
       "</style>\n",
       "<table border=\"1\" class=\"dataframe\">\n",
       "  <thead>\n",
       "    <tr style=\"text-align: right;\">\n",
       "      <th></th>\n",
       "      <th>Month</th>\n",
       "      <th>Energy</th>\n",
       "      <th>NCF</th>\n",
       "    </tr>\n",
       "  </thead>\n",
       "  <tbody>\n",
       "    <tr>\n",
       "      <th>0</th>\n",
       "      <td>1</td>\n",
       "      <td>26432.063543</td>\n",
       "      <td>0.161486</td>\n",
       "    </tr>\n",
       "    <tr>\n",
       "      <th>1</th>\n",
       "      <td>2</td>\n",
       "      <td>26847.917445</td>\n",
       "      <td>0.181601</td>\n",
       "    </tr>\n",
       "    <tr>\n",
       "      <th>2</th>\n",
       "      <td>3</td>\n",
       "      <td>34451.631444</td>\n",
       "      <td>0.210482</td>\n",
       "    </tr>\n",
       "    <tr>\n",
       "      <th>3</th>\n",
       "      <td>4</td>\n",
       "      <td>36840.413605</td>\n",
       "      <td>0.232578</td>\n",
       "    </tr>\n",
       "    <tr>\n",
       "      <th>4</th>\n",
       "      <td>5</td>\n",
       "      <td>38157.379186</td>\n",
       "      <td>0.233122</td>\n",
       "    </tr>\n",
       "    <tr>\n",
       "      <th>5</th>\n",
       "      <td>6</td>\n",
       "      <td>35819.850159</td>\n",
       "      <td>0.226135</td>\n",
       "    </tr>\n",
       "    <tr>\n",
       "      <th>6</th>\n",
       "      <td>7</td>\n",
       "      <td>35061.051536</td>\n",
       "      <td>0.214205</td>\n",
       "    </tr>\n",
       "    <tr>\n",
       "      <th>7</th>\n",
       "      <td>8</td>\n",
       "      <td>34979.762884</td>\n",
       "      <td>0.213708</td>\n",
       "    </tr>\n",
       "    <tr>\n",
       "      <th>8</th>\n",
       "      <td>9</td>\n",
       "      <td>33776.532886</td>\n",
       "      <td>0.213236</td>\n",
       "    </tr>\n",
       "    <tr>\n",
       "      <th>9</th>\n",
       "      <td>10</td>\n",
       "      <td>31482.956817</td>\n",
       "      <td>0.192345</td>\n",
       "    </tr>\n",
       "    <tr>\n",
       "      <th>10</th>\n",
       "      <td>11</td>\n",
       "      <td>25915.028937</td>\n",
       "      <td>0.163605</td>\n",
       "    </tr>\n",
       "    <tr>\n",
       "      <th>11</th>\n",
       "      <td>12</td>\n",
       "      <td>25576.457701</td>\n",
       "      <td>0.156469</td>\n",
       "    </tr>\n",
       "  </tbody>\n",
       "</table>\n",
       "</div>"
      ],
      "text/plain": [
       "    Month        Energy       NCF\n",
       "0       1  26432.063543  0.161486\n",
       "1       2  26847.917445  0.181601\n",
       "2       3  34451.631444  0.210482\n",
       "3       4  36840.413605  0.232578\n",
       "4       5  38157.379186  0.233122\n",
       "5       6  35819.850159  0.226135\n",
       "6       7  35061.051536  0.214205\n",
       "7       8  34979.762884  0.213708\n",
       "8       9  33776.532886  0.213236\n",
       "9      10  31482.956817  0.192345\n",
       "10     11  25915.028937  0.163605\n",
       "11     12  25576.457701  0.156469"
      ]
     },
     "execution_count": 40,
     "metadata": {},
     "output_type": "execute_result"
    }
   ],
   "source": [
    "NCF_mnth=p_acs.resample('M').mean()\n",
    "NCF_mnth=NCF_mnth/(60/int(interval) * system_capacity)\n",
    "NCF_mnth\n",
    "Pac_mnth\n",
    "NCF_mnth.sd\n",
    "NCF_mnth.iloc[:, [0]]\n",
    "Pac_mnth.iloc[:, [0]]\n",
    "NCF_mnth.reset_index(drop=True, inplace=True)\n",
    "Pac_mnth.reset_index(drop=True, inplace=True)\n",
    "\n",
    "NCF_mnth\n",
    "Pac_mnth\n",
    "[Pac_mnth.sd,NCF_mnth.sd]\n",
    "# df_CF= pd.DataFrame({'Energy': [Pac_mnth.sd], 'NCF': [NCF_mnth.sd]},index=[1, 2, 3, 4,5,6,7,8,9,10,11,12])\n",
    "df_CF= pd.DataFrame({'Month':np.arange(1,13), 'Energy': Pac_mnth.sd, 'NCF': NCF_mnth.sd})\n",
    "\n",
    "df_CF\n",
    "# print(df_CF)\n"
   ]
  },
  {
   "cell_type": "code",
   "execution_count": null,
   "metadata": {},
   "outputs": [],
   "source": [
    "# create data for a y=x line\n",
    "p_ac_max = p_acs.max().max()\n",
    "yxline = np.arange(0, p_ac_max)\n",
    "\n",
    "fig = plt.figure(figsize=(12,12))\n",
    "ax = fig.add_subplot(111, aspect='equal')\n",
    "sc = ax.scatter(p_acs['sd'], p_acs['sapm'], c=poa_irrad.poa_global, alpha=1)  \n",
    "ax.plot(yxline, yxline, 'r', linewidth=3)\n",
    "ax.set_xlim(0, None)\n",
    "ax.set_ylim(0, None)\n",
    "ax.set_xlabel('Single Diode model')\n",
    "ax.set_ylabel('Sandia model')\n",
    "fig.colorbar(sc, label='POA Global (W/m**2)')"
   ]
  },
  {
   "cell_type": "markdown",
   "metadata": {},
   "source": [
    "We can change the value of color value ``c`` to see the sensitivity of model accuracy to measured meterological conditions. It can be useful to define a simple plotting function for this kind of exploratory analysis."
   ]
  },
  {
   "cell_type": "code",
   "execution_count": null,
   "metadata": {},
   "outputs": [],
   "source": [
    "def sapm_sd_scatter(c_data, label=None, **kwargs):\n",
    "    \"\"\"Display a scatter plot of SAPM p_ac vs. single diode p_ac.\n",
    "    \n",
    "    You need to re-execute this cell if you re-run the p_ac calculation.\n",
    "    \n",
    "    Parameters\n",
    "    ----------\n",
    "    c_data : array-like\n",
    "        Determines the color of each point on the scatter plot.\n",
    "        Must be same length as p_acs.\n",
    "        \n",
    "    kwargs passed to ``scatter``.\n",
    "    \n",
    "    Returns\n",
    "    -------\n",
    "    tuple of fig, ax objects\n",
    "    \"\"\"\n",
    "    \n",
    "    fig = plt.figure(figsize=(12,12))\n",
    "    ax = fig.add_subplot(111, aspect='equal')\n",
    "    sc = ax.scatter(p_acs['sd'], p_acs['sapm'], c=c_data, alpha=1, **kwargs)  \n",
    "    ax.plot(yxline, yxline, 'r', linewidth=3)\n",
    "    ax.set_xlim(0, None)\n",
    "    ax.set_ylim(0, None)\n",
    "    ax.set_xlabel('Single diode model power (W)')\n",
    "    ax.set_ylabel('Sandia model power (W)')\n",
    "    fig.colorbar(sc, label='{}'.format(label), shrink=0.75)\n",
    "    \n",
    "    return fig, ax"
   ]
  },
  {
   "cell_type": "code",
   "execution_count": null,
   "metadata": {},
   "outputs": [],
   "source": [
    "sapm_sd_scatter(tmy_data.DryBulb, label='Temperature (deg C)')"
   ]
  },
  {
   "cell_type": "code",
   "execution_count": null,
   "metadata": {},
   "outputs": [],
   "source": [
    "sapm_sd_scatter(tmy_data.DNI, label='DNI (W/m**2)')"
   ]
  },
  {
   "cell_type": "code",
   "execution_count": null,
   "metadata": {},
   "outputs": [],
   "source": [
    "sapm_sd_scatter(tmy_data.AOD, label='AOD')"
   ]
  },
  {
   "cell_type": "code",
   "execution_count": null,
   "metadata": {},
   "outputs": [],
   "source": [
    "sapm_sd_scatter(tmy_data.Wspd, label='Wind speed', vmax=10)"
   ]
  },
  {
   "cell_type": "markdown",
   "metadata": {},
   "source": [
    "Notice the use of the ``vmax`` keyword argument in the above example. The ``**kwargs`` pattern allows us to easily pass non-specified arguments to nested functions."
   ]
  },
  {
   "cell_type": "code",
   "execution_count": null,
   "metadata": {},
   "outputs": [],
   "source": [
    "def sapm_other_scatter(c_data, x_data, clabel=None, xlabel=None, aspect_equal=False, **kwargs):\n",
    "    \"\"\"Display a scatter plot of SAPM p_ac vs. something else.\n",
    "    \n",
    "    You need to re-execute this cell if you re-run the p_ac calculation.\n",
    "    \n",
    "    Parameters\n",
    "    ----------\n",
    "    c_data : array-like\n",
    "        Determines the color of each point on the scatter plot.\n",
    "        Must be same length as p_acs.\n",
    "    x_data : array-like\n",
    "        \n",
    "    kwargs passed to ``scatter``.\n",
    "    \n",
    "    Returns\n",
    "    -------\n",
    "    tuple of fig, ax objects\n",
    "    \"\"\"\n",
    "    \n",
    "    fig = plt.figure(figsize=(12,12))\n",
    "    \n",
    "    if aspect_equal:\n",
    "        ax = fig.add_subplot(111, aspect='equal')\n",
    "    else:\n",
    "        ax = fig.add_subplot(111)\n",
    "    sc = ax.scatter(x_data, p_acs['sapm'], c=c_data, alpha=1, cmap=mpl.cm.YlGnBu_r, **kwargs)  \n",
    "    ax.set_xlim(0, None)\n",
    "    ax.set_ylim(0, None)\n",
    "    ax.set_xlabel('{}'.format(xlabel))\n",
    "    ax.set_ylabel('Sandia model power (W)')\n",
    "    fig.colorbar(sc, label='{}'.format(clabel), shrink=0.75)\n",
    "    \n",
    "    return fig, ax"
   ]
  },
  {
   "cell_type": "code",
   "execution_count": null,
   "metadata": {},
   "outputs": [],
   "source": [
    "sapm_other_scatter(tmy_data.DryBulb, tmy_data.GHI, clabel='Temperature (deg C)', xlabel='GHI (W/m**2)')"
   ]
  },
  {
   "cell_type": "markdown",
   "metadata": {},
   "source": [
    "Next, we will assume that the SAPM model is representative of the real world performance so that we can use scipy's optimization routine to derive simulated PVUSA coefficients. You will need to install scipy to run these functions.\n",
    "\n",
    "Here's one PVUSA reference:\n",
    "\n",
    "http://www.nrel.gov/docs/fy09osti/45376.pdf\n"
   ]
  },
  {
   "cell_type": "code",
   "execution_count": null,
   "metadata": {},
   "outputs": [],
   "source": [
    "def pvusa(pvusa_data, a, b, c, d):\n",
    "    \"\"\"\n",
    "    Calculates system power according to the PVUSA equation\n",
    "    \n",
    "    P = I * (a + b*I + c*W + d*T)\n",
    "    \n",
    "    where\n",
    "    P is the output power,\n",
    "    I is the plane of array irradiance,\n",
    "    W is the wind speed, and\n",
    "    T is the temperature\n",
    "    \n",
    "    Parameters\n",
    "    ----------\n",
    "    pvusa_data : pd.DataFrame\n",
    "        Must contain the columns 'I', 'W', and 'T'\n",
    "    a : float\n",
    "        I coefficient\n",
    "    b : float\n",
    "        I*I coefficient\n",
    "    c : float\n",
    "        I*W coefficient\n",
    "    d : float\n",
    "        I*T coefficient\n",
    "    \n",
    "    Returns\n",
    "    -------\n",
    "    power : pd.Series\n",
    "        Power calculated using the PVUSA model.\n",
    "    \"\"\"\n",
    "    return pvusa_data['I'] * (a + b*pvusa_data['I'] + c*pvusa_data['W'] + d*pvusa_data['T'])"
   ]
  },
  {
   "cell_type": "code",
   "execution_count": null,
   "metadata": {},
   "outputs": [],
   "source": [
    "from scipy import optimize"
   ]
  },
  {
   "cell_type": "code",
   "execution_count": null,
   "metadata": {},
   "outputs": [],
   "source": [
    "pvusa_data = pd.DataFrame()\n",
    "pvusa_data['I'] = poa_irrad.poa_global\n",
    "pvusa_data['W'] = tmy_data.Wspd\n",
    "pvusa_data['T'] = tmy_data.DryBulb"
   ]
  },
  {
   "cell_type": "code",
   "execution_count": null,
   "metadata": {},
   "outputs": [],
   "source": [
    "popt, pcov = optimize.curve_fit(pvusa, pvusa_data.dropna(), p_acs.sapm.values, p0=(.0001,0.0001,.001,.001))\n",
    "print('optimized coefs:\\n{}'.format(popt))\n",
    "print('covariances:\\n{}'.format(pcov))"
   ]
  },
  {
   "cell_type": "code",
   "execution_count": null,
   "metadata": {},
   "outputs": [],
   "source": [
    "power_pvusa = pvusa(pvusa_data, *popt)\n",
    "\n",
    "fig, ax = sapm_other_scatter(tmy_data.DryBulb, power_pvusa, clabel='Temperature (deg C)',\n",
    "                             aspect_equal=True, xlabel='PVUSA (W)')\n",
    "\n",
    "maxmax = max(ax.get_xlim()[1], ax.get_ylim()[1])\n",
    "ax.set_ylim(None, maxmax)\n",
    "ax.set_xlim(None, maxmax)\n",
    "ax.plot(np.arange(maxmax), np.arange(maxmax), 'r')"
   ]
  }
 ],
 "metadata": {
  "kernelspec": {
   "display_name": "Python 3",
   "language": "python",
   "name": "python3"
  },
  "language_info": {
   "codemirror_mode": {
    "name": "ipython",
    "version": 3
   },
   "file_extension": ".py",
   "mimetype": "text/x-python",
   "name": "python",
   "nbconvert_exporter": "python",
   "pygments_lexer": "ipython3",
   "version": "3.7.0"
  }
 },
 "nbformat": 4,
 "nbformat_minor": 1
}
