{
 "cells": [
  {
   "cell_type": "code",
   "execution_count": 2,
   "metadata": {},
   "outputs": [],
   "source": [
    "import pandas as pd\n",
    "import matplotlib.pyplot as plt\n",
    "\n",
    "naive_times = pd.DatetimeIndex(start='2017', end='2018', freq='1h')\n",
    "\n",
    "# very approximate\n",
    "# latitude, longitude, name, altitude, timezone\n",
    "coordinates = [(30, -110, 'Tucson', 700, 'Etc/GMT+7'),\n",
    "(30, 10, 'Ghadames', 330, 'Etc/GMT-2'),\n",
    "(32, 15, 'Misurata', 10, 'Etc/GMT-2'),\n",
    "(33, 13, 'Tripoli', 33, 'Etc/GMT-2'),\n",
    "(43, 141, 'Sapporo', 10, 'Etc/GMT-9'),\n",
    "(50, 10, 'Berlin', 34, 'Etc/GMT-1'),\n",
    "(-24, 69, 'Atacama', 2400, 'Etc/GMT-1')]\n",
    "\n",
    "import pvlib\n",
    "\n",
    "# get the module and inverter specifications from SAM\n",
    "sandia_modules = pvlib.pvsystem.retrieve_sam('SandiaMod')\n",
    "\n",
    "sapm_inverters = pvlib.pvsystem.retrieve_sam('cecinverter')\n",
    "\n",
    "module = sandia_modules['Canadian_Solar_CS5P_220M___2009_']\n",
    "\n",
    "inverter = sapm_inverters['ABB__MICRO_0_25_I_OUTD_US_208_208V__CEC_2014_']\n",
    "\n",
    "# specify constant ambient air temp and wind for simplicity\n",
    "temp_air = 20\n",
    "\n",
    "wind_speed = 0"
   ]
  },
  {
   "cell_type": "code",
   "execution_count": 3,
   "metadata": {},
   "outputs": [],
   "source": [
    "system = {'module': module, 'inverter': inverter,\n",
    "           'surface_azimuth': 180}"
   ]
  },
  {
   "cell_type": "code",
   "execution_count": 83,
   "metadata": {},
   "outputs": [
    {
     "name": "stderr",
     "output_type": "stream",
     "text": [
      "C:\\Users\\Mhdella\\Anaconda3\\lib\\site-packages\\ipykernel_launcher.py:41: FutureWarning: how in .resample() is deprecated\n",
      "the new syntax is .resample(...).sum()\n"
     ]
    }
   ],
   "source": [
    "energies = {}\n",
    "ac_locs = {}\n",
    "NCF = {}  #Net Capacity Factor: Divide sum of generation by the number of periods times the system size\n",
    "# NCF_monthly=pd.DataFrame(columns=[list(range(len(coordinates)))])\n",
    "NCF_monthly={}\n",
    "\n",
    "\n",
    "for latitude, longitude, name, altitude, timezone in coordinates:\n",
    "        times = naive_times.tz_localize(timezone)\n",
    "        system['surface_tilt'] = latitude\n",
    "        solpos = pvlib.solarposition.get_solarposition(times, latitude, longitude)\n",
    "        dni_extra = pvlib.irradiance.get_extra_radiation(times)\n",
    "        airmass = pvlib.atmosphere.get_relative_airmass(solpos['apparent_zenith'])\n",
    "        pressure = pvlib.atmosphere.alt2pres(altitude)\n",
    "        am_abs = pvlib.atmosphere.get_absolute_airmass(airmass, pressure)\n",
    "        tl = pvlib.clearsky.lookup_linke_turbidity(times, latitude, longitude)\n",
    "        cs = pvlib.clearsky.ineichen(solpos['apparent_zenith'], am_abs, tl,\n",
    "                                     dni_extra=dni_extra, altitude=altitude)\n",
    "        aoi = pvlib.irradiance.aoi(system['surface_tilt'], system['surface_azimuth'],\n",
    "                                   solpos['apparent_zenith'], solpos['azimuth'])\n",
    "        total_irrad = pvlib.irradiance.get_total_irradiance(system['surface_tilt'],\n",
    "                                                            system['surface_azimuth'],\n",
    "                                                            solpos['apparent_zenith'],\n",
    "                                                            solpos['azimuth'],\n",
    "                                                            cs['dni'], cs['ghi'], cs['dhi'],\n",
    "                                                            dni_extra=dni_extra,\n",
    "                                                            model='haydavies')\n",
    "        temps = pvlib.pvsystem.sapm_celltemp(total_irrad['poa_global'],\n",
    "                                             wind_speed, temp_air)\n",
    "        effective_irradiance = pvlib.pvsystem.sapm_effective_irradiance(\n",
    "            total_irrad['poa_direct'], total_irrad['poa_diffuse'],\n",
    "            am_abs, aoi, module)\n",
    "        dc = pvlib.pvsystem.sapm(effective_irradiance, temps['temp_cell'], module)\n",
    "        ac = pvlib.pvsystem.snlinverter(dc['v_mp'], dc['p_mp'], inverter)\n",
    "        annual_energy = ac.sum()\n",
    "        energies[name] = annual_energy\n",
    "        interval=60\n",
    "        system_capacity=220\n",
    "        NCF[name]=annual_energy/(525600/int(interval) * system_capacity)\n",
    "        ac_locs[name]=ac\n",
    "        ac_mth_agg=ac.resample('M',how='sum')\n",
    "        ncf_mon=ac_mth_agg/((740*60)/int(interval) * system_capacity)\n",
    "        NCF_monthly[name]=pd.DataFrame(ncf_mon)\n"
   ]
  },
  {
   "cell_type": "code",
   "execution_count": 84,
   "metadata": {},
   "outputs": [],
   "source": [
    "df_ac_locs=pd.DataFrame(ac_locs)\n",
    "df_ac_locs\n",
    "len(df_ac_locs.columns)\n",
    "df_ac_magg=pd.DataFrame(ac_mth_agg)\n",
    "# df_ac_magg\n",
    "# ac_mth_agg\n",
    "# len(df_ac_magg.columns)\n",
    "# NCF_monthly"
   ]
  },
  {
   "cell_type": "code",
   "execution_count": 85,
   "metadata": {},
   "outputs": [
    {
     "data": {
      "text/html": [
       "<div>\n",
       "<style scoped>\n",
       "    .dataframe tbody tr th:only-of-type {\n",
       "        vertical-align: middle;\n",
       "    }\n",
       "\n",
       "    .dataframe tbody tr th {\n",
       "        vertical-align: top;\n",
       "    }\n",
       "\n",
       "    .dataframe thead th {\n",
       "        text-align: right;\n",
       "    }\n",
       "</style>\n",
       "<table border=\"1\" class=\"dataframe\">\n",
       "  <thead>\n",
       "    <tr style=\"text-align: right;\">\n",
       "      <th></th>\n",
       "      <th>Energy</th>\n",
       "      <th>NCF</th>\n",
       "    </tr>\n",
       "  </thead>\n",
       "  <tbody>\n",
       "    <tr>\n",
       "      <th>Tucson</th>\n",
       "      <td>467728.320261</td>\n",
       "      <td>0.242698</td>\n",
       "    </tr>\n",
       "    <tr>\n",
       "      <th>Ghadames</th>\n",
       "      <td>462123.869640</td>\n",
       "      <td>0.239790</td>\n",
       "    </tr>\n",
       "    <tr>\n",
       "      <th>Misurata</th>\n",
       "      <td>462426.135667</td>\n",
       "      <td>0.239947</td>\n",
       "    </tr>\n",
       "    <tr>\n",
       "      <th>Tripoli</th>\n",
       "      <td>464865.169147</td>\n",
       "      <td>0.241213</td>\n",
       "    </tr>\n",
       "    <tr>\n",
       "      <th>Sapporo</th>\n",
       "      <td>476522.808287</td>\n",
       "      <td>0.247262</td>\n",
       "    </tr>\n",
       "    <tr>\n",
       "      <th>Berlin</th>\n",
       "      <td>383558.086966</td>\n",
       "      <td>0.199023</td>\n",
       "    </tr>\n",
       "    <tr>\n",
       "      <th>Atacama</th>\n",
       "      <td>540682.807904</td>\n",
       "      <td>0.280554</td>\n",
       "    </tr>\n",
       "  </tbody>\n",
       "</table>\n",
       "</div>"
      ],
      "text/plain": [
       "                 Energy       NCF\n",
       "Tucson    467728.320261  0.242698\n",
       "Ghadames  462123.869640  0.239790\n",
       "Misurata  462426.135667  0.239947\n",
       "Tripoli   464865.169147  0.241213\n",
       "Sapporo   476522.808287  0.247262\n",
       "Berlin    383558.086966  0.199023\n",
       "Atacama   540682.807904  0.280554"
      ]
     },
     "execution_count": 85,
     "metadata": {},
     "output_type": "execute_result"
    }
   ],
   "source": [
    "energies = pd.Series(energies)\n",
    "NCF = pd.Series(NCF)\n",
    "# based on the parameters specified above, these are in W*hrs\n",
    "# print(energies.round(0))\n",
    "decf = {'Energy':energies,'NCF':NCF}\n",
    "df_E_NCF = pd.DataFrame(decf)\n",
    "df_E_NCF"
   ]
  },
  {
   "cell_type": "code",
   "execution_count": 86,
   "metadata": {},
   "outputs": [
    {
     "data": {
      "text/plain": [
       "Text(0,0.5,'Yearly energy yield (W hr)')"
      ]
     },
     "execution_count": 86,
     "metadata": {},
     "output_type": "execute_result"
    },
    {
     "data": {
      "image/png": "[encoded data removed]",
      "text/plain": [
       "<Figure size 432x288 with 1 Axes>"
      ]
     },
     "metadata": {
      "needs_background": "light"
     },
     "output_type": "display_data"
    }
   ],
   "source": [
    "energies.plot(kind='bar', rot=0)\n",
    "\n",
    "plt.ylabel('Yearly energy yield (W hr)')\n"
   ]
  },
  {
   "cell_type": "code",
   "execution_count": 79,
   "metadata": {},
   "outputs": [
    {
     "data": {
      "text/plain": [
       "540682.8079039201"
      ]
     },
     "execution_count": 79,
     "metadata": {},
     "output_type": "execute_result"
    }
   ],
   "source": [
    "energies.head()\n",
    "ac.head()\n",
    "# ac.describe()\n",
    "annual_energy"
   ]
  },
  {
   "cell_type": "code",
   "execution_count": 80,
   "metadata": {},
   "outputs": [
    {
     "data": {
      "text/plain": [
       "207.3135185966198"
      ]
     },
     "execution_count": 80,
     "metadata": {},
     "output_type": "execute_result"
    }
   ],
   "source": [
    "system_capacity=220\n",
    "max(ac)"
   ]
  },
  {
   "cell_type": "code",
   "execution_count": null,
   "metadata": {},
   "outputs": [],
   "source": [
    "# print(ac_mth_agg) "
   ]
  },
  {
   "cell_type": "code",
   "execution_count": null,
   "metadata": {},
   "outputs": [],
   "source": [
    "ac_mth_agg/((740*60)/int(interval) * system_capacity)"
   ]
  },
  {
   "cell_type": "code",
   "execution_count": 88,
   "metadata": {},
   "outputs": [
    {
     "data": {
      "text/plain": [
       "{'Tucson':                                       0\n",
       " 2017-01-31 00:00:00-07:00  2.257373e-01\n",
       " 2017-02-28 00:00:00-07:00  2.230080e-01\n",
       " 2017-03-31 00:00:00-07:00  2.613212e-01\n",
       " 2017-04-30 00:00:00-07:00  2.528277e-01\n",
       " 2017-05-31 00:00:00-07:00  2.530311e-01\n",
       " 2017-06-30 00:00:00-07:00  2.366182e-01\n",
       " 2017-07-31 00:00:00-07:00  2.443788e-01\n",
       " 2017-08-31 00:00:00-07:00  2.500256e-01\n",
       " 2017-09-30 00:00:00-07:00  2.456848e-01\n",
       " 2017-10-31 00:00:00-07:00  2.458991e-01\n",
       " 2017-11-30 00:00:00-07:00  2.208980e-01\n",
       " 2017-12-31 00:00:00-07:00  2.135943e-01\n",
       " 2018-01-31 00:00:00-07:00 -1.228501e-07,\n",
       " 'Ghadames':                                       0\n",
       " 2017-01-31 00:00:00+02:00  2.203661e-01\n",
       " 2017-02-28 00:00:00+02:00  2.191983e-01\n",
       " 2017-03-31 00:00:00+02:00  2.559561e-01\n",
       " 2017-04-30 00:00:00+02:00  2.490863e-01\n",
       " 2017-05-31 00:00:00+02:00  2.484260e-01\n",
       " 2017-06-30 00:00:00+02:00  2.342217e-01\n",
       " 2017-07-31 00:00:00+02:00  2.434961e-01\n",
       " 2017-08-31 00:00:00+02:00  2.501236e-01\n",
       " 2017-09-30 00:00:00+02:00  2.448417e-01\n",
       " 2017-10-31 00:00:00+02:00  2.416778e-01\n",
       " 2017-11-30 00:00:00+02:00  2.183915e-01\n",
       " 2017-12-31 00:00:00+02:00  2.128136e-01\n",
       " 2018-01-31 00:00:00+02:00 -1.228501e-07,\n",
       " 'Misurata':                                       0\n",
       " 2017-01-31 00:00:00+02:00  2.225889e-01\n",
       " 2017-02-28 00:00:00+02:00  2.223247e-01\n",
       " 2017-03-31 00:00:00+02:00  2.564083e-01\n",
       " 2017-04-30 00:00:00+02:00  2.477892e-01\n",
       " 2017-05-31 00:00:00+02:00  2.476998e-01\n",
       " 2017-06-30 00:00:00+02:00  2.349297e-01\n",
       " 2017-07-31 00:00:00+02:00  2.441537e-01\n",
       " 2017-08-31 00:00:00+02:00  2.498954e-01\n",
       " 2017-09-30 00:00:00+02:00  2.431222e-01\n",
       " 2017-10-31 00:00:00+02:00  2.388592e-01\n",
       " 2017-11-30 00:00:00+02:00  2.194553e-01\n",
       " 2017-12-31 00:00:00+02:00  2.132291e-01\n",
       " 2018-01-31 00:00:00+02:00 -1.228501e-07,\n",
       " 'Tripoli':                                       0\n",
       " 2017-01-31 00:00:00+02:00  2.253068e-01\n",
       " 2017-02-28 00:00:00+02:00  2.234802e-01\n",
       " 2017-03-31 00:00:00+02:00  2.597550e-01\n",
       " 2017-04-30 00:00:00+02:00  2.498357e-01\n",
       " 2017-05-31 00:00:00+02:00  2.490719e-01\n",
       " 2017-06-30 00:00:00+02:00  2.350621e-01\n",
       " 2017-07-31 00:00:00+02:00  2.447180e-01\n",
       " 2017-08-31 00:00:00+02:00  2.508080e-01\n",
       " 2017-09-30 00:00:00+02:00  2.435773e-01\n",
       " 2017-10-31 00:00:00+02:00  2.417668e-01\n",
       " 2017-11-30 00:00:00+02:00  2.167262e-01\n",
       " 2017-12-31 00:00:00+02:00  2.153291e-01\n",
       " 2018-01-31 00:00:00+02:00 -1.228501e-07,\n",
       " 'Sapporo':                                       0\n",
       " 2017-01-31 00:00:00+09:00  2.247450e-01\n",
       " 2017-02-28 00:00:00+09:00  2.303397e-01\n",
       " 2017-03-31 00:00:00+09:00  2.765840e-01\n",
       " 2017-04-30 00:00:00+09:00  2.652098e-01\n",
       " 2017-05-31 00:00:00+09:00  2.595034e-01\n",
       " 2017-06-30 00:00:00+09:00  2.416972e-01\n",
       " 2017-07-31 00:00:00+09:00  2.484721e-01\n",
       " 2017-08-31 00:00:00+09:00  2.506032e-01\n",
       " 2017-09-30 00:00:00+09:00  2.469042e-01\n",
       " 2017-10-31 00:00:00+09:00  2.476083e-01\n",
       " 2017-11-30 00:00:00+09:00  2.223251e-01\n",
       " 2017-12-31 00:00:00+09:00  2.130526e-01\n",
       " 2018-01-31 00:00:00+09:00 -1.228501e-07,\n",
       " 'Berlin':                                       0\n",
       " 2017-01-31 00:00:00+01:00  1.297875e-01\n",
       " 2017-02-28 00:00:00+01:00  1.613408e-01\n",
       " 2017-03-31 00:00:00+01:00  2.154934e-01\n",
       " 2017-04-30 00:00:00+01:00  2.291749e-01\n",
       " 2017-05-31 00:00:00+01:00  2.402423e-01\n",
       " 2017-06-30 00:00:00+01:00  2.308882e-01\n",
       " 2017-07-31 00:00:00+01:00  2.402220e-01\n",
       " 2017-08-31 00:00:00+01:00  2.359659e-01\n",
       " 2017-09-30 00:00:00+01:00  2.173500e-01\n",
       " 2017-10-31 00:00:00+01:00  1.990752e-01\n",
       " 2017-11-30 00:00:00+01:00  1.445388e-01\n",
       " 2017-12-31 00:00:00+01:00  1.119291e-01\n",
       " 2018-01-31 00:00:00+01:00 -1.228501e-07,\n",
       " 'Atacama':                                       0\n",
       " 2017-01-31 00:00:00+01:00  2.949001e-01\n",
       " 2017-02-28 00:00:00+01:00  2.712139e-01\n",
       " 2017-03-31 00:00:00+01:00  2.973726e-01\n",
       " 2017-04-30 00:00:00+01:00  2.730571e-01\n",
       " 2017-05-31 00:00:00+01:00  2.610775e-01\n",
       " 2017-06-30 00:00:00+01:00  2.393756e-01\n",
       " 2017-07-31 00:00:00+01:00  2.547950e-01\n",
       " 2017-08-31 00:00:00+01:00  2.744289e-01\n",
       " 2017-09-30 00:00:00+01:00  2.806127e-01\n",
       " 2017-10-31 00:00:00+01:00  2.975115e-01\n",
       " 2017-11-30 00:00:00+01:00  2.855065e-01\n",
       " 2017-12-31 00:00:00+01:00  2.912960e-01\n",
       " 2018-01-31 00:00:00+01:00 -1.228501e-07}"
      ]
     },
     "execution_count": 88,
     "metadata": {},
     "output_type": "execute_result"
    }
   ],
   "source": [
    "NCF_monthly"
   ]
  },
  {
   "cell_type": "code",
   "execution_count": null,
   "metadata": {},
   "outputs": [],
   "source": []
  },
  {
   "cell_type": "code",
   "execution_count": null,
   "metadata": {},
   "outputs": [],
   "source": []
  },
  {
   "cell_type": "code",
   "execution_count": null,
   "metadata": {},
   "outputs": [],
   "source": []
  },
  {
   "cell_type": "code",
   "execution_count": null,
   "metadata": {},
   "outputs": [],
   "source": []
  },
  {
   "cell_type": "code",
   "execution_count": null,
   "metadata": {},
   "outputs": [],
   "source": []
  },
  {
   "cell_type": "code",
   "execution_count": null,
   "metadata": {},
   "outputs": [],
   "source": []
  },
  {
   "cell_type": "code",
   "execution_count": null,
   "metadata": {},
   "outputs": [],
   "source": []
  }
 ],
 "metadata": {
  "kernelspec": {
   "display_name": "Python 3",
   "language": "python",
   "name": "python3"
  },
  "language_info": {
   "codemirror_mode": {
    "name": "ipython",
    "version": 3
   },
   "file_extension": ".py",
   "mimetype": "text/x-python",
   "name": "python",
   "nbconvert_exporter": "python",
   "pygments_lexer": "ipython3",
   "version": "3.7.0"
  }
 },
 "nbformat": 4,
 "nbformat_minor": 2
}
