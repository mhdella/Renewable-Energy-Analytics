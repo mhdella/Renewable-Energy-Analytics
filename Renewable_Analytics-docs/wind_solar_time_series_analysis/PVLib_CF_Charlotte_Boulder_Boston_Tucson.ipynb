{
 "cells": [
  {
   "cell_type": "code",
   "execution_count": 1,
   "metadata": {},
   "outputs": [],
   "source": [
    "import pandas as pd\n",
    "import matplotlib.pyplot as plt\n",
    "\n",
    "# naive_times = pd.DatetimeIndex(start='2017', end='2018', freq='1h')\n",
    "# naive_times = pd.DatetimeIndex(start='2018', end='2019', freq='1h')\n",
    "naive_times = pd.DatetimeIndex(start='2009', end='2010', freq='1h')\n",
    "# naive_times = pd.DatetimeIndex(start='2010', end='2011', freq='1h')  \n",
    "####For different years the results are changing slightly (not significant)\n",
    "\n",
    "\n",
    "# very approximate\n",
    "# latitude, longitude, name, altitude, timezone\n",
    "coordinates = [(35.2, -80.8, 'Charlotte', 232, 'Etc/GMT+4'),\n",
    "(40, -105.3, 'Boulder', 1624, 'Etc/GMT+6'),\n",
    "(42.3, -71.2, 'Boston', 43, 'Etc/GMT+4'),\n",
    "(30, -110, 'Tucson', 700, 'Etc/GMT+7')]\n",
    "\n",
    "import pvlib\n",
    "\n",
    "# get the module and inverter specifications from SAM\n",
    "sandia_modules = pvlib.pvsystem.retrieve_sam('SandiaMod')\n",
    "\n",
    "sapm_inverters = pvlib.pvsystem.retrieve_sam('cecinverter')\n",
    "\n",
    "module = sandia_modules['Canadian_Solar_CS5P_220M___2009_']\n",
    "\n",
    "inverter = sapm_inverters['ABB__MICRO_0_25_I_OUTD_US_208_208V__CEC_2014_']\n",
    "\n",
    "# specify constant ambient air temp and wind for simplicity\n",
    "temp_air = 20\n",
    "\n",
    "wind_speed = 0"
   ]
  },
  {
   "cell_type": "code",
   "execution_count": 2,
   "metadata": {},
   "outputs": [],
   "source": [
    "system = {'module': module, 'inverter': inverter,\n",
    "           'surface_azimuth': 180}"
   ]
  },
  {
   "cell_type": "code",
   "execution_count": 3,
   "metadata": {},
   "outputs": [
    {
     "name": "stderr",
     "output_type": "stream",
     "text": [
      "C:\\Users\\Mhdella\\Anaconda3\\lib\\site-packages\\ipykernel_launcher.py:41: FutureWarning: how in .resample() is deprecated\n",
      "the new syntax is .resample(...).sum()\n"
     ]
    }
   ],
   "source": [
    "energies = {}\n",
    "ac_locs = {}\n",
    "NCF = {}  #Net Capacity Factor: Divide sum of generation by the number of periods times the system size\n",
    "# NCF_monthly=pd.DataFrame(columns=[list(range(len(coordinates)))])\n",
    "NCF_monthly={}\n",
    "\n",
    "\n",
    "for latitude, longitude, name, altitude, timezone in coordinates:\n",
    "        times = naive_times.tz_localize(timezone)\n",
    "        system['surface_tilt'] = latitude\n",
    "        solpos = pvlib.solarposition.get_solarposition(times, latitude, longitude)\n",
    "        dni_extra = pvlib.irradiance.get_extra_radiation(times)\n",
    "        airmass = pvlib.atmosphere.get_relative_airmass(solpos['apparent_zenith'])\n",
    "        pressure = pvlib.atmosphere.alt2pres(altitude)\n",
    "        am_abs = pvlib.atmosphere.get_absolute_airmass(airmass, pressure)\n",
    "        tl = pvlib.clearsky.lookup_linke_turbidity(times, latitude, longitude)\n",
    "        cs = pvlib.clearsky.ineichen(solpos['apparent_zenith'], am_abs, tl,\n",
    "                                     dni_extra=dni_extra, altitude=altitude)\n",
    "        aoi = pvlib.irradiance.aoi(system['surface_tilt'], system['surface_azimuth'],\n",
    "                                   solpos['apparent_zenith'], solpos['azimuth'])\n",
    "        total_irrad = pvlib.irradiance.get_total_irradiance(system['surface_tilt'],\n",
    "                                                            system['surface_azimuth'],\n",
    "                                                            solpos['apparent_zenith'],\n",
    "                                                            solpos['azimuth'],\n",
    "                                                            cs['dni'], cs['ghi'], cs['dhi'],\n",
    "                                                            dni_extra=dni_extra,\n",
    "                                                            model='haydavies')\n",
    "        temps = pvlib.pvsystem.sapm_celltemp(total_irrad['poa_global'],\n",
    "                                             wind_speed, temp_air)\n",
    "        effective_irradiance = pvlib.pvsystem.sapm_effective_irradiance(\n",
    "            total_irrad['poa_direct'], total_irrad['poa_diffuse'],\n",
    "            am_abs, aoi, module)\n",
    "        dc = pvlib.pvsystem.sapm(effective_irradiance, temps['temp_cell'], module)\n",
    "        ac = pvlib.pvsystem.snlinverter(dc['v_mp'], dc['p_mp'], inverter)\n",
    "        annual_energy = ac.sum()\n",
    "        energies[name] = annual_energy\n",
    "        interval=60\n",
    "        system_capacity=220\n",
    "        NCF[name]=annual_energy/(525600/int(interval) * system_capacity)\n",
    "        ac_locs[name]=ac\n",
    "        ac_mth_agg=ac.resample('M',how='sum')\n",
    "        ncf_mon=ac_mth_agg/((740*60)/int(interval) * system_capacity)\n",
    "        NCF_monthly[name]=pd.DataFrame(ncf_mon)\n"
   ]
  },
  {
   "cell_type": "code",
   "execution_count": 4,
   "metadata": {},
   "outputs": [],
   "source": [
    "df_ac_locs=pd.DataFrame(ac_locs)\n",
    "df_ac_locs\n",
    "len(df_ac_locs.columns)\n",
    "df_ac_magg=pd.DataFrame(ac_mth_agg)\n",
    "# df_ac_magg\n",
    "# ac_mth_agg\n",
    "# len(df_ac_magg.columns)\n",
    "# NCF_monthly"
   ]
  },
  {
   "cell_type": "code",
   "execution_count": 5,
   "metadata": {},
   "outputs": [
    {
     "data": {
      "text/html": [
       "<div>\n",
       "<style scoped>\n",
       "    .dataframe tbody tr th:only-of-type {\n",
       "        vertical-align: middle;\n",
       "    }\n",
       "\n",
       "    .dataframe tbody tr th {\n",
       "        vertical-align: top;\n",
       "    }\n",
       "\n",
       "    .dataframe thead th {\n",
       "        text-align: right;\n",
       "    }\n",
       "</style>\n",
       "<table border=\"1\" class=\"dataframe\">\n",
       "  <thead>\n",
       "    <tr style=\"text-align: right;\">\n",
       "      <th></th>\n",
       "      <th>Energy</th>\n",
       "      <th>NCF</th>\n",
       "    </tr>\n",
       "  </thead>\n",
       "  <tbody>\n",
       "    <tr>\n",
       "      <th>Charlotte</th>\n",
       "      <td>446027.799635</td>\n",
       "      <td>0.231438</td>\n",
       "    </tr>\n",
       "    <tr>\n",
       "      <th>Boulder</th>\n",
       "      <td>491571.366495</td>\n",
       "      <td>0.255070</td>\n",
       "    </tr>\n",
       "    <tr>\n",
       "      <th>Boston</th>\n",
       "      <td>451884.866442</td>\n",
       "      <td>0.234477</td>\n",
       "    </tr>\n",
       "    <tr>\n",
       "      <th>Tucson</th>\n",
       "      <td>467719.102821</td>\n",
       "      <td>0.242694</td>\n",
       "    </tr>\n",
       "  </tbody>\n",
       "</table>\n",
       "</div>"
      ],
      "text/plain": [
       "                  Energy       NCF\n",
       "Charlotte  446027.799635  0.231438\n",
       "Boulder    491571.366495  0.255070\n",
       "Boston     451884.866442  0.234477\n",
       "Tucson     467719.102821  0.242694"
      ]
     },
     "execution_count": 5,
     "metadata": {},
     "output_type": "execute_result"
    }
   ],
   "source": [
    "energies = pd.Series(energies)\n",
    "NCF = pd.Series(NCF)\n",
    "# based on the parameters specified above, these are in W*hrs\n",
    "# print(energies.round(0))\n",
    "decf = {'Energy':energies,'NCF':NCF}\n",
    "df_E_NCF = pd.DataFrame(decf)\n",
    "df_E_NCF"
   ]
  },
  {
   "cell_type": "code",
   "execution_count": 6,
   "metadata": {},
   "outputs": [
    {
     "data": {
      "text/plain": [
       "Text(0,0.5,'Yearly energy yield (W hr)')"
      ]
     },
     "execution_count": 6,
     "metadata": {},
     "output_type": "execute_result"
    },
    {
     "data": {
      "image/png": "[encoded data removed]",
      "text/plain": [
       "<Figure size 432x288 with 1 Axes>"
      ]
     },
     "metadata": {
      "needs_background": "light"
     },
     "output_type": "display_data"
    }
   ],
   "source": [
    "energies.plot(kind='bar', rot=0)\n",
    "\n",
    "plt.ylabel('Yearly energy yield (W hr)')\n"
   ]
  },
  {
   "cell_type": "code",
   "execution_count": 7,
   "metadata": {},
   "outputs": [
    {
     "data": {
      "text/plain": [
       "467719.10282142775"
      ]
     },
     "execution_count": 7,
     "metadata": {},
     "output_type": "execute_result"
    }
   ],
   "source": [
    "energies.head()\n",
    "ac.head()\n",
    "# ac.describe()\n",
    "annual_energy"
   ]
  },
  {
   "cell_type": "code",
   "execution_count": 8,
   "metadata": {},
   "outputs": [
    {
     "data": {
      "text/plain": [
       "187.70299856688567"
      ]
     },
     "execution_count": 8,
     "metadata": {},
     "output_type": "execute_result"
    }
   ],
   "source": [
    "system_capacity=220\n",
    "max(ac)"
   ]
  },
  {
   "cell_type": "code",
   "execution_count": 9,
   "metadata": {},
   "outputs": [],
   "source": [
    "# print(ac_mth_agg) "
   ]
  },
  {
   "cell_type": "code",
   "execution_count": 10,
   "metadata": {},
   "outputs": [
    {
     "data": {
      "text/plain": [
       "2009-01-31 00:00:00-07:00    2.256831e-01\n",
       "2009-02-28 00:00:00-07:00    2.229641e-01\n",
       "2009-03-31 00:00:00-07:00    2.612959e-01\n",
       "2009-04-30 00:00:00-07:00    2.528264e-01\n",
       "2009-05-31 00:00:00-07:00    2.530378e-01\n",
       "2009-06-30 00:00:00-07:00    2.366155e-01\n",
       "2009-07-31 00:00:00-07:00    2.443669e-01\n",
       "2009-08-31 00:00:00-07:00    2.500231e-01\n",
       "2009-09-30 00:00:00-07:00    2.457021e-01\n",
       "2009-10-31 00:00:00-07:00    2.459379e-01\n",
       "2009-11-30 00:00:00-07:00    2.209296e-01\n",
       "2009-12-31 00:00:00-07:00    2.135852e-01\n",
       "2010-01-31 00:00:00-07:00   -1.228501e-07\n",
       "Freq: M, dtype: float64"
      ]
     },
     "execution_count": 10,
     "metadata": {},
     "output_type": "execute_result"
    }
   ],
   "source": [
    "ac_mth_agg/((740*60)/int(interval) * system_capacity)\n",
    "#2.135943"
   ]
  },
  {
   "cell_type": "code",
   "execution_count": 11,
   "metadata": {},
   "outputs": [
    {
     "data": {
      "text/plain": [
       "{'Charlotte':                                       0\n",
       " 2009-01-31 00:00:00-04:00  2.111819e-01\n",
       " 2009-02-28 00:00:00-04:00  2.164275e-01\n",
       " 2009-03-31 00:00:00-04:00  2.472825e-01\n",
       " 2009-04-30 00:00:00-04:00  2.417450e-01\n",
       " 2009-05-31 00:00:00-04:00  2.443294e-01\n",
       " 2009-06-30 00:00:00-04:00  2.288263e-01\n",
       " 2009-07-31 00:00:00-04:00  2.367186e-01\n",
       " 2009-08-31 00:00:00-04:00  2.374227e-01\n",
       " 2009-09-30 00:00:00-04:00  2.359521e-01\n",
       " 2009-10-31 00:00:00-04:00  2.363031e-01\n",
       " 2009-11-30 00:00:00-04:00  2.070240e-01\n",
       " 2009-12-31 00:00:00-04:00  1.965155e-01\n",
       " 2010-01-31 00:00:00-04:00 -1.228501e-07,\n",
       " 'Boulder':                                       0\n",
       " 2009-01-31 00:00:00-06:00  2.291343e-01\n",
       " 2009-02-28 00:00:00-06:00  2.319663e-01\n",
       " 2009-03-31 00:00:00-06:00  2.754655e-01\n",
       " 2009-04-30 00:00:00-06:00  2.692651e-01\n",
       " 2009-05-31 00:00:00-06:00  2.694075e-01\n",
       " 2009-06-30 00:00:00-06:00  2.556739e-01\n",
       " 2009-07-31 00:00:00-06:00  2.662084e-01\n",
       " 2009-08-31 00:00:00-06:00  2.701380e-01\n",
       " 2009-09-30 00:00:00-06:00  2.588123e-01\n",
       " 2009-10-31 00:00:00-06:00  2.539602e-01\n",
       " 2009-11-30 00:00:00-06:00  2.228557e-01\n",
       " 2009-12-31 00:00:00-06:00  2.165930e-01\n",
       " 2010-01-31 00:00:00-06:00 -1.228501e-07,\n",
       " 'Boston':                                       0\n",
       " 2009-01-31 00:00:00-04:00  2.076587e-01\n",
       " 2009-02-28 00:00:00-04:00  2.137715e-01\n",
       " 2009-03-31 00:00:00-04:00  2.605273e-01\n",
       " 2009-04-30 00:00:00-04:00  2.530083e-01\n",
       " 2009-05-31 00:00:00-04:00  2.538038e-01\n",
       " 2009-06-30 00:00:00-04:00  2.377178e-01\n",
       " 2009-07-31 00:00:00-04:00  2.459932e-01\n",
       " 2009-08-31 00:00:00-04:00  2.478231e-01\n",
       " 2009-09-30 00:00:00-04:00  2.408320e-01\n",
       " 2009-10-31 00:00:00-04:00  2.340708e-01\n",
       " 2009-11-30 00:00:00-04:00  1.918540e-01\n",
       " 2009-12-31 00:00:00-04:00  1.886452e-01\n",
       " 2010-01-31 00:00:00-04:00 -1.228501e-07,\n",
       " 'Tucson':                                       0\n",
       " 2009-01-31 00:00:00-07:00  2.256831e-01\n",
       " 2009-02-28 00:00:00-07:00  2.229641e-01\n",
       " 2009-03-31 00:00:00-07:00  2.612959e-01\n",
       " 2009-04-30 00:00:00-07:00  2.528264e-01\n",
       " 2009-05-31 00:00:00-07:00  2.530378e-01\n",
       " 2009-06-30 00:00:00-07:00  2.366155e-01\n",
       " 2009-07-31 00:00:00-07:00  2.443669e-01\n",
       " 2009-08-31 00:00:00-07:00  2.500231e-01\n",
       " 2009-09-30 00:00:00-07:00  2.457021e-01\n",
       " 2009-10-31 00:00:00-07:00  2.459379e-01\n",
       " 2009-11-30 00:00:00-07:00  2.209296e-01\n",
       " 2009-12-31 00:00:00-07:00  2.135852e-01\n",
       " 2010-01-31 00:00:00-07:00 -1.228501e-07}"
      ]
     },
     "execution_count": 11,
     "metadata": {},
     "output_type": "execute_result"
    }
   ],
   "source": [
    "NCF_monthly"
   ]
  },
  {
   "cell_type": "code",
   "execution_count": null,
   "metadata": {},
   "outputs": [],
   "source": []
  },
  {
   "cell_type": "code",
   "execution_count": null,
   "metadata": {},
   "outputs": [],
   "source": []
  },
  {
   "cell_type": "code",
   "execution_count": null,
   "metadata": {},
   "outputs": [],
   "source": []
  },
  {
   "cell_type": "code",
   "execution_count": null,
   "metadata": {},
   "outputs": [],
   "source": []
  },
  {
   "cell_type": "code",
   "execution_count": null,
   "metadata": {},
   "outputs": [],
   "source": []
  },
  {
   "cell_type": "code",
   "execution_count": null,
   "metadata": {},
   "outputs": [],
   "source": []
  },
  {
   "cell_type": "code",
   "execution_count": null,
   "metadata": {},
   "outputs": [],
   "source": []
  }
 ],
 "metadata": {
  "kernelspec": {
   "display_name": "Python 3",
   "language": "python",
   "name": "python3"
  },
  "language_info": {
   "codemirror_mode": {
    "name": "ipython",
    "version": 3
   },
   "file_extension": ".py",
   "mimetype": "text/x-python",
   "name": "python",
   "nbconvert_exporter": "python",
   "pygments_lexer": "ipython3",
   "version": "3.7.0"
  }
 },
 "nbformat": 4,
 "nbformat_minor": 2
}
