{
 "cells": [
  {
   "cell_type": "markdown",
   "metadata": {},
   "source": [
    "# Gradient boosting Machines (GBM) with Solar Power Ramp Events "
   ]
  },
  {
   "cell_type": "markdown",
   "metadata": {},
   "source": [
    "## Importing the libraries"
   ]
  },
  {
   "cell_type": "code",
   "execution_count": 1,
   "metadata": {},
   "outputs": [],
   "source": [
    "import numpy as np\n",
    "import matplotlib.pyplot as plt\n",
    "import pandas as pd\n",
    "import os"
   ]
  },
  {
   "cell_type": "markdown",
   "metadata": {},
   "source": [
    "## Importing the dataset"
   ]
  },
  {
   "cell_type": "code",
   "execution_count": 40,
   "metadata": {
    "scrolled": true
   },
   "outputs": [
    {
     "data": {
      "text/html": [
       "<div>\n",
       "<style scoped>\n",
       "    .dataframe tbody tr th:only-of-type {\n",
       "        vertical-align: middle;\n",
       "    }\n",
       "\n",
       "    .dataframe tbody tr th {\n",
       "        vertical-align: top;\n",
       "    }\n",
       "\n",
       "    .dataframe thead th {\n",
       "        text-align: right;\n",
       "    }\n",
       "</style>\n",
       "<table border=\"1\" class=\"dataframe\">\n",
       "  <thead>\n",
       "    <tr style=\"text-align: right;\">\n",
       "      <th></th>\n",
       "      <th>V1</th>\n",
       "      <th>V2</th>\n",
       "      <th>V3</th>\n",
       "      <th>V4</th>\n",
       "      <th>V5</th>\n",
       "      <th>V6</th>\n",
       "      <th>V7</th>\n",
       "      <th>V8</th>\n",
       "      <th>V9</th>\n",
       "      <th>V10</th>\n",
       "      <th>...</th>\n",
       "      <th>V58</th>\n",
       "      <th>V59</th>\n",
       "      <th>V60</th>\n",
       "      <th>V61</th>\n",
       "      <th>V62</th>\n",
       "      <th>V63</th>\n",
       "      <th>V64</th>\n",
       "      <th>V65</th>\n",
       "      <th>V66</th>\n",
       "      <th>Class</th>\n",
       "    </tr>\n",
       "  </thead>\n",
       "  <tbody>\n",
       "    <tr>\n",
       "      <th>0</th>\n",
       "      <td>0.001610</td>\n",
       "      <td>0.001852</td>\n",
       "      <td>0.445164</td>\n",
       "      <td>0.710982</td>\n",
       "      <td>0.482693</td>\n",
       "      <td>0.346400</td>\n",
       "      <td>0.786719</td>\n",
       "      <td>0.296912</td>\n",
       "      <td>0.212884</td>\n",
       "      <td>0.414958</td>\n",
       "      <td>...</td>\n",
       "      <td>4</td>\n",
       "      <td>2</td>\n",
       "      <td>2</td>\n",
       "      <td>2</td>\n",
       "      <td>2</td>\n",
       "      <td>2</td>\n",
       "      <td>1</td>\n",
       "      <td>2</td>\n",
       "      <td>2</td>\n",
       "      <td>4</td>\n",
       "    </tr>\n",
       "    <tr>\n",
       "      <th>1</th>\n",
       "      <td>0.127630</td>\n",
       "      <td>0.085961</td>\n",
       "      <td>0.548310</td>\n",
       "      <td>0.907729</td>\n",
       "      <td>0.999993</td>\n",
       "      <td>0.607910</td>\n",
       "      <td>0.184483</td>\n",
       "      <td>0.370349</td>\n",
       "      <td>0.051022</td>\n",
       "      <td>0.696017</td>\n",
       "      <td>...</td>\n",
       "      <td>2</td>\n",
       "      <td>2</td>\n",
       "      <td>2</td>\n",
       "      <td>2</td>\n",
       "      <td>2</td>\n",
       "      <td>4</td>\n",
       "      <td>4</td>\n",
       "      <td>2</td>\n",
       "      <td>2</td>\n",
       "      <td>2</td>\n",
       "    </tr>\n",
       "    <tr>\n",
       "      <th>2</th>\n",
       "      <td>0.034725</td>\n",
       "      <td>0.109288</td>\n",
       "      <td>0.510308</td>\n",
       "      <td>0.922363</td>\n",
       "      <td>0.999993</td>\n",
       "      <td>0.598586</td>\n",
       "      <td>0.159467</td>\n",
       "      <td>0.365388</td>\n",
       "      <td>0.054600</td>\n",
       "      <td>0.720091</td>\n",
       "      <td>...</td>\n",
       "      <td>2</td>\n",
       "      <td>2</td>\n",
       "      <td>2</td>\n",
       "      <td>2</td>\n",
       "      <td>2</td>\n",
       "      <td>2</td>\n",
       "      <td>2</td>\n",
       "      <td>2</td>\n",
       "      <td>2</td>\n",
       "      <td>2</td>\n",
       "    </tr>\n",
       "    <tr>\n",
       "      <th>3</th>\n",
       "      <td>0.033372</td>\n",
       "      <td>0.276992</td>\n",
       "      <td>0.473963</td>\n",
       "      <td>0.927030</td>\n",
       "      <td>0.999993</td>\n",
       "      <td>0.604930</td>\n",
       "      <td>0.140143</td>\n",
       "      <td>0.369037</td>\n",
       "      <td>0.092530</td>\n",
       "      <td>0.730662</td>\n",
       "      <td>...</td>\n",
       "      <td>4</td>\n",
       "      <td>4</td>\n",
       "      <td>4</td>\n",
       "      <td>2</td>\n",
       "      <td>2</td>\n",
       "      <td>2</td>\n",
       "      <td>2</td>\n",
       "      <td>2</td>\n",
       "      <td>4</td>\n",
       "      <td>4</td>\n",
       "    </tr>\n",
       "    <tr>\n",
       "      <th>4</th>\n",
       "      <td>0.171606</td>\n",
       "      <td>0.153857</td>\n",
       "      <td>0.456074</td>\n",
       "      <td>0.928770</td>\n",
       "      <td>0.999993</td>\n",
       "      <td>0.595534</td>\n",
       "      <td>0.121081</td>\n",
       "      <td>0.371288</td>\n",
       "      <td>0.086637</td>\n",
       "      <td>0.736614</td>\n",
       "      <td>...</td>\n",
       "      <td>2</td>\n",
       "      <td>4</td>\n",
       "      <td>4</td>\n",
       "      <td>2</td>\n",
       "      <td>2</td>\n",
       "      <td>2</td>\n",
       "      <td>2</td>\n",
       "      <td>4</td>\n",
       "      <td>4</td>\n",
       "      <td>4</td>\n",
       "    </tr>\n",
       "  </tbody>\n",
       "</table>\n",
       "<p>5 rows × 67 columns</p>\n",
       "</div>"
      ],
      "text/plain": [
       "         V1        V2        V3        V4        V5        V6        V7  \\\n",
       "0  0.001610  0.001852  0.445164  0.710982  0.482693  0.346400  0.786719   \n",
       "1  0.127630  0.085961  0.548310  0.907729  0.999993  0.607910  0.184483   \n",
       "2  0.034725  0.109288  0.510308  0.922363  0.999993  0.598586  0.159467   \n",
       "3  0.033372  0.276992  0.473963  0.927030  0.999993  0.604930  0.140143   \n",
       "4  0.171606  0.153857  0.456074  0.928770  0.999993  0.595534  0.121081   \n",
       "\n",
       "         V8        V9       V10  ...    V58  V59  V60  V61  V62  V63  V64  \\\n",
       "0  0.296912  0.212884  0.414958  ...      4    2    2    2    2    2    1   \n",
       "1  0.370349  0.051022  0.696017  ...      2    2    2    2    2    4    4   \n",
       "2  0.365388  0.054600  0.720091  ...      2    2    2    2    2    2    2   \n",
       "3  0.369037  0.092530  0.730662  ...      4    4    4    2    2    2    2   \n",
       "4  0.371288  0.086637  0.736614  ...      2    4    4    2    2    2    2   \n",
       "\n",
       "   V65  V66  Class  \n",
       "0    2    2      4  \n",
       "1    2    2      2  \n",
       "2    2    2      2  \n",
       "3    2    4      4  \n",
       "4    4    4      4  \n",
       "\n",
       "[5 rows x 67 columns]"
      ]
     },
     "execution_count": 40,
     "metadata": {},
     "output_type": "execute_result"
    }
   ],
   "source": [
    "os.getcwd()\n",
    "os.chdir('../datasets')\n",
    "# dataset = pd.read_csv('Social_Network_Ads.csv')\n",
    "dataset = pd.read_csv('rampdata66.csv')\n",
    "# X = dataset.iloc[:, [2, 3]].values\n",
    "X = dataset.iloc[:, :-1].values\n",
    "y = dataset.iloc[:, 66].values\n",
    "dataset.head()"
   ]
  },
  {
   "cell_type": "markdown",
   "metadata": {},
   "source": [
    "## Encoding categorical data"
   ]
  },
  {
   "cell_type": "code",
   "execution_count": 41,
   "metadata": {},
   "outputs": [],
   "source": [
    "# from sklearn.preprocessing import LabelEncoder, OneHotEncoder\n",
    "# labelencoder_X = LabelEncoder()\n",
    "# X[ : , 1] = labelencoder_X.fit_transform(X[ : , 1])\n",
    "# X"
   ]
  },
  {
   "cell_type": "markdown",
   "metadata": {},
   "source": [
    "## Splitting the dataset into the Training set and Test set"
   ]
  },
  {
   "cell_type": "code",
   "execution_count": 42,
   "metadata": {},
   "outputs": [],
   "source": [
    "from sklearn.model_selection import train_test_split\n",
    "X_train, X_test, y_train, y_test = train_test_split(X, y, test_size = 0.25, random_state = 0)"
   ]
  },
  {
   "cell_type": "markdown",
   "metadata": {},
   "source": [
    "## Feature Scaling"
   ]
  },
  {
   "cell_type": "code",
   "execution_count": 43,
   "metadata": {},
   "outputs": [],
   "source": [
    "from sklearn.preprocessing import StandardScaler\n",
    "sc = StandardScaler()\n",
    "X_train = sc.fit_transform(X_train)\n",
    "X_test = sc.transform(X_test)"
   ]
  },
  {
   "cell_type": "markdown",
   "metadata": {},
   "source": [
    "### Cross-validation for XGBoosting: \n",
    "2folds for each of 100 candidates, totalling 200 fits, (it takes time about 5mins)\n",
    "\n",
    "https://scikit-learn.org/stable/modules/model_evaluation.html\n",
    "\n",
    "\n",
    "{'learning_rate': 0.3, 'max_depth': 12, 'n_estimators': 500}"
   ]
  },
  {
   "cell_type": "code",
   "execution_count": 49,
   "metadata": {},
   "outputs": [],
   "source": [
    "# from sklearn import metrics   ##Additional scklearn functions\n",
    "# from sklearn.model_selection import cross_validate\n",
    "# from sklearn.model_selection import GridSearchCV   #Perforing grid search\n",
    "# # from sklearn.ensemble import GradientBoostingClassifier\n",
    "# # XGB_model = GradientBoostingClassifier()\n",
    "\n",
    "# from xgboost.sklearn import XGBClassifier\n",
    "# XGB_model = XGBClassifier()\n",
    "\n",
    "# test_params = {'n_estimators':[100, 200, 300, 400, 500], 'learning_rate':[0.05, 0.1, 0.2, 0.3, 0.5], \n",
    "#                'max_depth':[2,4,8,12]}\n",
    "\n",
    "# grid = GridSearchCV(estimator = XGB_model, param_grid = test_params, n_jobs=4, \n",
    "#                     scoring='f1_weighted',cv=2, verbose=3)\n",
    "\n",
    "# grid.fit(X_train,y_train)\n",
    "# print(grid.best_params_)"
   ]
  },
  {
   "cell_type": "markdown",
   "metadata": {},
   "source": [
    "## Fitting XGB to the Training set\n",
    "It takes long time for training  (about < 1min)"
   ]
  },
  {
   "cell_type": "code",
   "execution_count": 62,
   "metadata": {},
   "outputs": [
    {
     "data": {
      "text/plain": [
       "XGBClassifier(base_score=0.5, booster='gbtree', colsample_bylevel=1,\n",
       "       colsample_bytree=1, gamma=0, learning_rate=0.3, max_delta_step=0,\n",
       "       max_depth=12, min_child_weight=1, missing=None, n_estimators=500,\n",
       "       n_jobs=1, nthread=None, objective='multi:softprob', random_state=0,\n",
       "       reg_alpha=0, reg_lambda=1, scale_pos_weight=1, seed=None,\n",
       "       silent=True, subsample=1)"
      ]
     },
     "execution_count": 62,
     "metadata": {},
     "output_type": "execute_result"
    }
   ],
   "source": [
    "# from sklearn.ensemble import GradientBoostingClassifier\n",
    "from xgboost.sklearn import XGBClassifier\n",
    "# params={'max_depth':6, 'learning_rate':0.01, 'n_estimators':550, 'subsample':0.5, 'colsample_bytree':0.5, 'seed':0}\n",
    "# params = {'n_estimators': 500, 'max_depth': 12, 'min_samples_split': 2,\n",
    "#           'learning_rate': 0.3, 'loss': 'deviance'}\n",
    "params = {'n_estimators': 500, 'max_depth': 12, 'learning_rate': 0.3}\n",
    "classifier = XGBClassifier(**params)\n",
    "\n",
    "classifier.fit(X_train, y_train)"
   ]
  },
  {
   "cell_type": "markdown",
   "metadata": {},
   "source": [
    "## Predicting the Test set results\n",
    "\n",
    "It takse about <15min"
   ]
  },
  {
   "cell_type": "code",
   "execution_count": 63,
   "metadata": {},
   "outputs": [],
   "source": [
    "y_pred = classifier.predict(X_test)"
   ]
  },
  {
   "cell_type": "markdown",
   "metadata": {},
   "source": [
    "## Making the Confusion Matrix"
   ]
  },
  {
   "cell_type": "code",
   "execution_count": 64,
   "metadata": {},
   "outputs": [
    {
     "data": {
      "text/plain": [
       "array([[ 14,  20,   0,   0],\n",
       "       [  8, 274,   0,  33],\n",
       "       [  0,   1,   2,   4],\n",
       "       [  0,  61,   0, 540]], dtype=int64)"
      ]
     },
     "execution_count": 64,
     "metadata": {},
     "output_type": "execute_result"
    }
   ],
   "source": [
    "from sklearn.metrics import confusion_matrix\n",
    "cm = confusion_matrix(y_test, y_pred)\n",
    "cm\n"
   ]
  },
  {
   "cell_type": "code",
   "execution_count": 65,
   "metadata": {},
   "outputs": [],
   "source": [
    "# # Plot training deviance\n",
    "\n",
    "# # compute test set deviance\n",
    "# test_score = np.zeros((params['n_estimators'],), dtype=np.float64)\n",
    "\n",
    "# for i, y_pred in enumerate(classifier.staged_predict(X_test)):\n",
    "#     test_score[i] = classifier.loss_(y_test, y_pred)\n",
    "\n",
    "# plt.figure(figsize=(12, 6))\n",
    "# plt.subplot(1, 2, 1)\n",
    "# plt.title('Deviance')\n",
    "# plt.plot(np.arange(params['n_estimators']) + 1, classifier.train_score_, 'b-',\n",
    "#          label='Training Set Deviance')\n",
    "# plt.plot(np.arange(params['n_estimators']) + 1, test_score, 'r-',\n",
    "#          label='Test Set Deviance')\n",
    "# plt.legend(loc='upper right')\n",
    "# plt.xlabel('Boosting Iterations')\n",
    "# plt.ylabel('Deviance')"
   ]
  },
  {
   "cell_type": "code",
   "execution_count": 66,
   "metadata": {},
   "outputs": [
    {
     "data": {
      "text/plain": [
       "Index(['V1', 'V2', 'V3', 'V4', 'V5', 'V6', 'V7', 'V8', 'V9', 'V10', 'V11',\n",
       "       'V12', 'V13', 'V14', 'V15', 'V16', 'V17', 'V18', 'V19', 'V20', 'V21',\n",
       "       'V22', 'V23', 'V24', 'V25', 'V26', 'V27', 'V28', 'V29', 'V30', 'V31',\n",
       "       'V32', 'V33', 'V34', 'V35', 'V36', 'V37', 'V38', 'V39', 'V40', 'V41',\n",
       "       'V42', 'V43', 'V44', 'V45', 'V46', 'V47', 'V48', 'V49', 'V50', 'V51',\n",
       "       'V52', 'V53', 'V54', 'V55', 'V56', 'V57', 'V58', 'V59', 'V60', 'V61',\n",
       "       'V62', 'V63', 'V64', 'V65', 'V66', 'Class'],\n",
       "      dtype='object')"
      ]
     },
     "execution_count": 66,
     "metadata": {},
     "output_type": "execute_result"
    }
   ],
   "source": [
    "import pandas as pd\n",
    "import datetime as dt\n",
    "df_fs=pd.DataFrame(dataset.columns)\n",
    "dataset.columns\n",
    "# df_fs"
   ]
  },
  {
   "cell_type": "code",
   "execution_count": 71,
   "metadata": {},
   "outputs": [
    {
     "data": {
      "image/png": "[encoded data removed]",
      "text/plain": [
       "<Figure size 432x288 with 1 Axes>"
      ]
     },
     "metadata": {
      "needs_background": "light"
     },
     "output_type": "display_data"
    }
   ],
   "source": [
    "# #############################################################################\n",
    "# Plot feature importance\n",
    "feature_importance = classifier.feature_importances_\n",
    "## make importances relative to max importance\n",
    "feature_importance = 100.0 * (feature_importance / feature_importance.max())\n",
    "sorted_idx = np.argsort(feature_importance)\n",
    "pos = np.arange(sorted_idx.shape[0]) + .5\n",
    "plt.subplot(1, 2, 2)\n",
    "plt.barh(pos, feature_importance[sorted_idx], align='center')\n",
    "plt.yticks(pos, dataset.columns[sorted_idx])\n",
    "plt.xlabel('Relative Importance')\n",
    "plt.title('Variable Importance')\n",
    "plt.show()"
   ]
  },
  {
   "cell_type": "code",
   "execution_count": 72,
   "metadata": {},
   "outputs": [
    {
     "data": {
      "text/plain": [
       "array([63, 64, 61, 56, 60, 62, 65, 50, 59, 53, 57, 54, 23, 22, 20, 51, 44,\n",
       "       52, 25, 55, 26, 58, 19,  8, 18, 21, 43, 14, 39, 42, 33, 28, 17, 10,\n",
       "       45, 24, 40, 11, 27, 38, 41,  4, 34, 48, 37, 13, 12, 47, 16,  7, 15,\n",
       "       36,  1, 46,  5, 49,  3, 32,  9, 30,  0, 29,  6, 31,  2, 35],\n",
       "      dtype=int64)"
      ]
     },
     "execution_count": 72,
     "metadata": {},
     "output_type": "execute_result"
    }
   ],
   "source": [
    "sorted_idx\n",
    "# feature_importance[sorted_idx]\n",
    "# feature_importance[sorted_idx[64]]\n",
    "# feature_importance[sorted_idx[65]]\n"
   ]
  },
  {
   "cell_type": "code",
   "execution_count": 73,
   "metadata": {},
   "outputs": [
    {
     "data": {
      "text/plain": [
       "array([0.5       , 0.81669151, 0.44444444, 0.91680815])"
      ]
     },
     "execution_count": 73,
     "metadata": {},
     "output_type": "execute_result"
    }
   ],
   "source": [
    "from sklearn.metrics import f1_score\n",
    "# f1_score(y_test, y_pred, average='macro')  \n",
    "# f1_score(y_test, y_pred, average='micro')  \n",
    "# f1_score(y_test, y_pred, average='weighted')  \n",
    "f1_score(y_test, y_pred, average=None)"
   ]
  },
  {
   "cell_type": "code",
   "execution_count": null,
   "metadata": {},
   "outputs": [],
   "source": []
  },
  {
   "cell_type": "code",
   "execution_count": null,
   "metadata": {},
   "outputs": [],
   "source": []
  },
  {
   "cell_type": "code",
   "execution_count": null,
   "metadata": {},
   "outputs": [],
   "source": []
  }
 ],
 "metadata": {
  "kernelspec": {
   "display_name": "Python 3",
   "language": "python",
   "name": "python3"
  },
  "language_info": {
   "codemirror_mode": {
    "name": "ipython",
    "version": 3
   },
   "file_extension": ".py",
   "mimetype": "text/x-python",
   "name": "python",
   "nbconvert_exporter": "python",
   "pygments_lexer": "ipython3",
   "version": "3.7.0"
  }
 },
 "nbformat": 4,
 "nbformat_minor": 2
}
