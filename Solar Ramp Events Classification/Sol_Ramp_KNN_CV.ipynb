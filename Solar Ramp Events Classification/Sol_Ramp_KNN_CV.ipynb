{
 "cells": [
  {
   "cell_type": "markdown",
   "metadata": {},
   "source": [
    "# KNN with Solar Power Ramp Events"
   ]
  },
  {
   "cell_type": "markdown",
   "metadata": {},
   "source": [
    "## Importing the libraries"
   ]
  },
  {
   "cell_type": "code",
   "execution_count": 1,
   "metadata": {},
   "outputs": [],
   "source": [
    "import numpy as np\n",
    "import matplotlib.pyplot as plt\n",
    "import pandas as pd\n",
    "import os"
   ]
  },
  {
   "cell_type": "markdown",
   "metadata": {},
   "source": [
    "## Importing the dataset"
   ]
  },
  {
   "cell_type": "code",
   "execution_count": 2,
   "metadata": {
    "scrolled": true
   },
   "outputs": [
    {
     "data": {
      "text/html": [
       "<div>\n",
       "<style scoped>\n",
       "    .dataframe tbody tr th:only-of-type {\n",
       "        vertical-align: middle;\n",
       "    }\n",
       "\n",
       "    .dataframe tbody tr th {\n",
       "        vertical-align: top;\n",
       "    }\n",
       "\n",
       "    .dataframe thead th {\n",
       "        text-align: right;\n",
       "    }\n",
       "</style>\n",
       "<table border=\"1\" class=\"dataframe\">\n",
       "  <thead>\n",
       "    <tr style=\"text-align: right;\">\n",
       "      <th></th>\n",
       "      <th>V1</th>\n",
       "      <th>V2</th>\n",
       "      <th>V3</th>\n",
       "      <th>V4</th>\n",
       "      <th>V5</th>\n",
       "      <th>V6</th>\n",
       "      <th>V7</th>\n",
       "      <th>V8</th>\n",
       "      <th>V9</th>\n",
       "      <th>V10</th>\n",
       "      <th>...</th>\n",
       "      <th>V58</th>\n",
       "      <th>V59</th>\n",
       "      <th>V60</th>\n",
       "      <th>V61</th>\n",
       "      <th>V62</th>\n",
       "      <th>V63</th>\n",
       "      <th>V64</th>\n",
       "      <th>V65</th>\n",
       "      <th>V66</th>\n",
       "      <th>Class</th>\n",
       "    </tr>\n",
       "  </thead>\n",
       "  <tbody>\n",
       "    <tr>\n",
       "      <th>0</th>\n",
       "      <td>0.001610</td>\n",
       "      <td>0.001852</td>\n",
       "      <td>0.445164</td>\n",
       "      <td>0.710982</td>\n",
       "      <td>0.482693</td>\n",
       "      <td>0.346400</td>\n",
       "      <td>0.786719</td>\n",
       "      <td>0.296912</td>\n",
       "      <td>0.212884</td>\n",
       "      <td>0.414958</td>\n",
       "      <td>...</td>\n",
       "      <td>4</td>\n",
       "      <td>2</td>\n",
       "      <td>2</td>\n",
       "      <td>2</td>\n",
       "      <td>2</td>\n",
       "      <td>2</td>\n",
       "      <td>1</td>\n",
       "      <td>2</td>\n",
       "      <td>2</td>\n",
       "      <td>4</td>\n",
       "    </tr>\n",
       "    <tr>\n",
       "      <th>1</th>\n",
       "      <td>0.127630</td>\n",
       "      <td>0.085961</td>\n",
       "      <td>0.548310</td>\n",
       "      <td>0.907729</td>\n",
       "      <td>0.999993</td>\n",
       "      <td>0.607910</td>\n",
       "      <td>0.184483</td>\n",
       "      <td>0.370349</td>\n",
       "      <td>0.051022</td>\n",
       "      <td>0.696017</td>\n",
       "      <td>...</td>\n",
       "      <td>2</td>\n",
       "      <td>2</td>\n",
       "      <td>2</td>\n",
       "      <td>2</td>\n",
       "      <td>2</td>\n",
       "      <td>4</td>\n",
       "      <td>4</td>\n",
       "      <td>2</td>\n",
       "      <td>2</td>\n",
       "      <td>2</td>\n",
       "    </tr>\n",
       "    <tr>\n",
       "      <th>2</th>\n",
       "      <td>0.034725</td>\n",
       "      <td>0.109288</td>\n",
       "      <td>0.510308</td>\n",
       "      <td>0.922363</td>\n",
       "      <td>0.999993</td>\n",
       "      <td>0.598586</td>\n",
       "      <td>0.159467</td>\n",
       "      <td>0.365388</td>\n",
       "      <td>0.054600</td>\n",
       "      <td>0.720091</td>\n",
       "      <td>...</td>\n",
       "      <td>2</td>\n",
       "      <td>2</td>\n",
       "      <td>2</td>\n",
       "      <td>2</td>\n",
       "      <td>2</td>\n",
       "      <td>2</td>\n",
       "      <td>2</td>\n",
       "      <td>2</td>\n",
       "      <td>2</td>\n",
       "      <td>2</td>\n",
       "    </tr>\n",
       "    <tr>\n",
       "      <th>3</th>\n",
       "      <td>0.033372</td>\n",
       "      <td>0.276992</td>\n",
       "      <td>0.473963</td>\n",
       "      <td>0.927030</td>\n",
       "      <td>0.999993</td>\n",
       "      <td>0.604930</td>\n",
       "      <td>0.140143</td>\n",
       "      <td>0.369037</td>\n",
       "      <td>0.092530</td>\n",
       "      <td>0.730662</td>\n",
       "      <td>...</td>\n",
       "      <td>4</td>\n",
       "      <td>4</td>\n",
       "      <td>4</td>\n",
       "      <td>2</td>\n",
       "      <td>2</td>\n",
       "      <td>2</td>\n",
       "      <td>2</td>\n",
       "      <td>2</td>\n",
       "      <td>4</td>\n",
       "      <td>4</td>\n",
       "    </tr>\n",
       "    <tr>\n",
       "      <th>4</th>\n",
       "      <td>0.171606</td>\n",
       "      <td>0.153857</td>\n",
       "      <td>0.456074</td>\n",
       "      <td>0.928770</td>\n",
       "      <td>0.999993</td>\n",
       "      <td>0.595534</td>\n",
       "      <td>0.121081</td>\n",
       "      <td>0.371288</td>\n",
       "      <td>0.086637</td>\n",
       "      <td>0.736614</td>\n",
       "      <td>...</td>\n",
       "      <td>2</td>\n",
       "      <td>4</td>\n",
       "      <td>4</td>\n",
       "      <td>2</td>\n",
       "      <td>2</td>\n",
       "      <td>2</td>\n",
       "      <td>2</td>\n",
       "      <td>4</td>\n",
       "      <td>4</td>\n",
       "      <td>4</td>\n",
       "    </tr>\n",
       "  </tbody>\n",
       "</table>\n",
       "<p>5 rows × 67 columns</p>\n",
       "</div>"
      ],
      "text/plain": [
       "         V1        V2        V3        V4        V5        V6        V7  \\\n",
       "0  0.001610  0.001852  0.445164  0.710982  0.482693  0.346400  0.786719   \n",
       "1  0.127630  0.085961  0.548310  0.907729  0.999993  0.607910  0.184483   \n",
       "2  0.034725  0.109288  0.510308  0.922363  0.999993  0.598586  0.159467   \n",
       "3  0.033372  0.276992  0.473963  0.927030  0.999993  0.604930  0.140143   \n",
       "4  0.171606  0.153857  0.456074  0.928770  0.999993  0.595534  0.121081   \n",
       "\n",
       "         V8        V9       V10  ...    V58  V59  V60  V61  V62  V63  V64  \\\n",
       "0  0.296912  0.212884  0.414958  ...      4    2    2    2    2    2    1   \n",
       "1  0.370349  0.051022  0.696017  ...      2    2    2    2    2    4    4   \n",
       "2  0.365388  0.054600  0.720091  ...      2    2    2    2    2    2    2   \n",
       "3  0.369037  0.092530  0.730662  ...      4    4    4    2    2    2    2   \n",
       "4  0.371288  0.086637  0.736614  ...      2    4    4    2    2    2    2   \n",
       "\n",
       "   V65  V66  Class  \n",
       "0    2    2      4  \n",
       "1    2    2      2  \n",
       "2    2    2      2  \n",
       "3    2    4      4  \n",
       "4    4    4      4  \n",
       "\n",
       "[5 rows x 67 columns]"
      ]
     },
     "execution_count": 2,
     "metadata": {},
     "output_type": "execute_result"
    }
   ],
   "source": [
    "os.getcwd()\n",
    "os.chdir('../datasets')\n",
    "# dataset = pd.read_csv('Social_Network_Ads.csv')\n",
    "dataset = pd.read_csv('rampdata66.csv')\n",
    "# X = dataset.iloc[:, [2, 3]].values\n",
    "X = dataset.iloc[:, :-1].values\n",
    "y = dataset.iloc[:, 66].values\n",
    "dataset.head()"
   ]
  },
  {
   "cell_type": "markdown",
   "metadata": {},
   "source": [
    "## Encoding categorical data"
   ]
  },
  {
   "cell_type": "code",
   "execution_count": 3,
   "metadata": {},
   "outputs": [],
   "source": [
    "# from sklearn.preprocessing import LabelEncoder, OneHotEncoder\n",
    "# labelencoder_X = LabelEncoder()\n",
    "# X[ : , 1] = labelencoder_X.fit_transform(X[ : , 1])\n",
    "# X"
   ]
  },
  {
   "cell_type": "markdown",
   "metadata": {},
   "source": [
    "## Splitting the dataset into the Training set and Test set"
   ]
  },
  {
   "cell_type": "code",
   "execution_count": 4,
   "metadata": {},
   "outputs": [],
   "source": [
    "from sklearn.model_selection import train_test_split\n",
    "X_train, X_test, y_train, y_test = train_test_split(X, y, test_size = 0.25, random_state = 0)"
   ]
  },
  {
   "cell_type": "markdown",
   "metadata": {},
   "source": [
    "## Feature Scaling"
   ]
  },
  {
   "cell_type": "code",
   "execution_count": 5,
   "metadata": {},
   "outputs": [],
   "source": [
    "from sklearn.preprocessing import StandardScaler\n",
    "sc = StandardScaler()\n",
    "X_train = sc.fit_transform(X_train)\n",
    "X_test = sc.transform(X_test)"
   ]
  },
  {
   "cell_type": "markdown",
   "metadata": {},
   "source": [
    "### Cross-validation for KNN: \n",
    "2folds for each of 100 candidates, totalling 200 fits, (it takes time about 5mins)\n",
    "\n",
    "https://scikit-learn.org/stable/modules/model_evaluation.html\n",
    "\n",
    "classifier = KNeighborsClassifier(n_neighbors = 5, metric = 'minkowski', p = 2)"
   ]
  },
  {
   "cell_type": "code",
   "execution_count": 6,
   "metadata": {},
   "outputs": [],
   "source": [
    "# from sklearn import metrics   ##Additional scklearn functions\n",
    "# from sklearn.model_selection import cross_validate\n",
    "# from sklearn.model_selection import GridSearchCV   #Perforing grid search\n",
    "from sklearn.neighbors import KNeighborsClassifier\n",
    "# # KNN_model = KNeighborsClassifier()\n",
    "\n",
    "# test_params = {'n_neighbors':[1, 2, 3, 4, 5, 6], p:[0.05, 0.1, 0.2, 0.3, 0.5]}\n",
    "\n",
    "# grid = GridSearchCV(estimator = KNN_model, param_grid = test_params, n_jobs=4, \n",
    "#                     scoring='f1_weighted',cv=2, verbose=3)\n",
    "\n",
    "# grid.fit(X_train,y_train)\n",
    "# print(grid.best_params_)"
   ]
  },
  {
   "cell_type": "markdown",
   "metadata": {},
   "source": [
    "### Fitting KNN  \n",
    "Evaluate metric(s) by cross-validation and also record fit/score times.\n",
    "\n",
    "https://scikit-learn.org/stable/modules/generated/sklearn.model_selection.cross_validate.html\n",
    "\n",
    "https://scikit-learn.org/stable/modules/cross_validation.html"
   ]
  },
  {
   "cell_type": "code",
   "execution_count": 17,
   "metadata": {},
   "outputs": [
    {
     "data": {
      "text/plain": [
       "['fit_time', 'score_time', 'test_score', 'train_score']"
      ]
     },
     "execution_count": 17,
     "metadata": {},
     "output_type": "execute_result"
    }
   ],
   "source": [
    "from sklearn import metrics   ##Additional scklearn functions\n",
    "from sklearn.model_selection import cross_validate\n",
    "from sklearn.metrics.scorer import make_scorer\n",
    "from sklearn.metrics import confusion_matrix\n",
    "from sklearn.neighbors import KNeighborsClassifier\n",
    "params = {'n_neighbors': 5 }\n",
    "classifier = KNeighborsClassifier(n_neighbors = 5, metric = 'minkowski', p = 2)\n",
    "cv_results = cross_validate(classifier, X, y, cv=2)\n",
    "sorted(cv_results.keys())                          "
   ]
  },
  {
   "cell_type": "code",
   "execution_count": 18,
   "metadata": {},
   "outputs": [
    {
     "name": "stderr",
     "output_type": "stream",
     "text": [
      "C:\\Users\\Mhdella\\Anaconda3\\lib\\site-packages\\sklearn\\utils\\deprecation.py:125: FutureWarning: You are accessing a training score ('train_score'), which will not be available by default any more in 0.21. If you need training scores, please set return_train_score=True\n",
      "  warnings.warn(*warn_args, **warn_kwargs)\n"
     ]
    },
    {
     "data": {
      "text/plain": [
       "{'fit_time': array([0.01097322, 0.00698233]),\n",
       " 'score_time': array([0.22245145, 0.19968843]),\n",
       " 'test_score': array([0.86057441, 0.86774699]),\n",
       " 'train_score': array([0.9012023 , 0.87885117])}"
      ]
     },
     "execution_count": 18,
     "metadata": {},
     "output_type": "execute_result"
    }
   ],
   "source": [
    "cv_results"
   ]
  },
  {
   "cell_type": "code",
   "execution_count": 19,
   "metadata": {},
   "outputs": [
    {
     "data": {
      "text/plain": [
       "3828"
      ]
     },
     "execution_count": 19,
     "metadata": {},
     "output_type": "execute_result"
    }
   ],
   "source": [
    "sum(y_train.shape+y_test.shape)"
   ]
  },
  {
   "cell_type": "markdown",
   "metadata": {},
   "source": [
    "## Single metric evaluation using cross_validate"
   ]
  },
  {
   "cell_type": "code",
   "execution_count": 20,
   "metadata": {},
   "outputs": [
    {
     "data": {
      "text/plain": [
       "array([0.86057441, 0.86774699])"
      ]
     },
     "execution_count": 20,
     "metadata": {},
     "output_type": "execute_result"
    }
   ],
   "source": [
    "sorted(cv_results.keys())                         \n",
    "['fit_time', 'score_time', 'test_score']\n",
    "cv_results['test_score']    "
   ]
  },
  {
   "cell_type": "markdown",
   "metadata": {},
   "source": [
    "####  Multiple metric evaluation using cross_validate "
   ]
  },
  {
   "cell_type": "code",
   "execution_count": 21,
   "metadata": {},
   "outputs": [],
   "source": [
    "scores = cross_validate(classifier, X, y, cv=2, scoring=('f1_weighted'), return_train_score=True)"
   ]
  },
  {
   "cell_type": "code",
   "execution_count": 22,
   "metadata": {},
   "outputs": [
    {
     "data": {
      "text/plain": [
       "{'fit_time': array([0.01196933, 0.00697351]),\n",
       " 'score_time': array([0.22521448, 0.18650699]),\n",
       " 'test_score': array([0.85881854, 0.86414623]),\n",
       " 'train_score': array([0.89987304, 0.87732008])}"
      ]
     },
     "execution_count": 22,
     "metadata": {},
     "output_type": "execute_result"
    }
   ],
   "source": [
    "# print(scores['train_f1_weighted'])   \n",
    "# print(scores['f1_weighted'])   \n",
    "scores\n",
    "# train_f1_weighted"
   ]
  },
  {
   "cell_type": "markdown",
   "metadata": {},
   "source": [
    "## Making the Confusion Matrix"
   ]
  },
  {
   "cell_type": "code",
   "execution_count": 23,
   "metadata": {},
   "outputs": [
    {
     "data": {
      "text/plain": [
       "array([[  56,   38,    0,    5],\n",
       "       [  74, 1085,    1,  205],\n",
       "       [   0,    1,    5,    4],\n",
       "       [   1,  166,   25, 2162]], dtype=int64)"
      ]
     },
     "execution_count": 23,
     "metadata": {},
     "output_type": "execute_result"
    }
   ],
   "source": [
    ">>> from sklearn.model_selection import cross_val_predict\n",
    "y_pred = cross_val_predict(classifier, X, y, cv=2)\n",
    "from sklearn.metrics import confusion_matrix\n",
    "cm = confusion_matrix(y_pred, y)\n",
    "cm"
   ]
  },
  {
   "cell_type": "code",
   "execution_count": 24,
   "metadata": {},
   "outputs": [
    {
     "name": "stdout",
     "output_type": "stream",
     "text": [
      "True Hi_Ramps= 61\n",
      "False Hi_Ramps= 101\n"
     ]
    }
   ],
   "source": [
    "print('True Hi_Ramps=',cm[0,0]+cm[2,2])\n",
    "print('False Hi_Ramps=',cm[1,0]+cm[2,0]+cm[3,0]+cm[0,2]+cm[1,2]+cm[3,2])"
   ]
  },
  {
   "cell_type": "code",
   "execution_count": 25,
   "metadata": {},
   "outputs": [
    {
     "data": {
      "text/plain": [
       "array([0.48695652, 0.8173258 , 0.24390244, 0.9141649 ])"
      ]
     },
     "execution_count": 25,
     "metadata": {},
     "output_type": "execute_result"
    }
   ],
   "source": [
    "from sklearn.metrics import f1_score\n",
    "f1_score(y, y_pred, average=None)"
   ]
  },
  {
   "cell_type": "markdown",
   "metadata": {},
   "source": [
    "## Analysis on the outcomes y, (classes of solar ramp events)"
   ]
  },
  {
   "cell_type": "code",
   "execution_count": 26,
   "metadata": {},
   "outputs": [
    {
     "name": "stdout",
     "output_type": "stream",
     "text": [
      "C1= 131 C2= 1290 C3= 31 C4= 2376\n"
     ]
    }
   ],
   "source": [
    "y.shape\n",
    "len(y)\n",
    "print('C1=', len(y[y==1]),'C2=', len(y[y==2]),\n",
    "      'C3=', len(y[y==3]),'C4=', len(y[y==4]))"
   ]
  },
  {
   "cell_type": "code",
   "execution_count": null,
   "metadata": {},
   "outputs": [],
   "source": []
  },
  {
   "cell_type": "code",
   "execution_count": null,
   "metadata": {},
   "outputs": [],
   "source": []
  },
  {
   "cell_type": "code",
   "execution_count": null,
   "metadata": {},
   "outputs": [],
   "source": []
  }
 ],
 "metadata": {
  "kernelspec": {
   "display_name": "Python 3",
   "language": "python",
   "name": "python3"
  },
  "language_info": {
   "codemirror_mode": {
    "name": "ipython",
    "version": 3
   },
   "file_extension": ".py",
   "mimetype": "text/x-python",
   "name": "python",
   "nbconvert_exporter": "python",
   "pygments_lexer": "ipython3",
   "version": "3.7.0"
  }
 },
 "nbformat": 4,
 "nbformat_minor": 2
}
