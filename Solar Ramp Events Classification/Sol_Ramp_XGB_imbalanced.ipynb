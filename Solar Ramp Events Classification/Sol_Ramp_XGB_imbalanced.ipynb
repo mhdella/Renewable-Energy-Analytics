{
 "cells": [
  {
   "cell_type": "markdown",
   "metadata": {},
   "source": [
    "# XGB with Solar Power Ramp Events"
   ]
  },
  {
   "cell_type": "markdown",
   "metadata": {},
   "source": [
    "## Importing the libraries"
   ]
  },
  {
   "cell_type": "code",
   "execution_count": 1,
   "metadata": {},
   "outputs": [],
   "source": [
    "import numpy as np\n",
    "import matplotlib.pyplot as plt\n",
    "import pandas as pd\n",
    "import os"
   ]
  },
  {
   "cell_type": "markdown",
   "metadata": {},
   "source": [
    "## Importing the dataset"
   ]
  },
  {
   "cell_type": "code",
   "execution_count": 2,
   "metadata": {
    "scrolled": true
   },
   "outputs": [
    {
     "data": {
      "text/html": [
       "<div>\n",
       "<style scoped>\n",
       "    .dataframe tbody tr th:only-of-type {\n",
       "        vertical-align: middle;\n",
       "    }\n",
       "\n",
       "    .dataframe tbody tr th {\n",
       "        vertical-align: top;\n",
       "    }\n",
       "\n",
       "    .dataframe thead th {\n",
       "        text-align: right;\n",
       "    }\n",
       "</style>\n",
       "<table border=\"1\" class=\"dataframe\">\n",
       "  <thead>\n",
       "    <tr style=\"text-align: right;\">\n",
       "      <th></th>\n",
       "      <th>V1</th>\n",
       "      <th>V2</th>\n",
       "      <th>V3</th>\n",
       "      <th>V4</th>\n",
       "      <th>V5</th>\n",
       "      <th>V6</th>\n",
       "      <th>V7</th>\n",
       "      <th>V8</th>\n",
       "      <th>V9</th>\n",
       "      <th>V10</th>\n",
       "      <th>...</th>\n",
       "      <th>V58</th>\n",
       "      <th>V59</th>\n",
       "      <th>V60</th>\n",
       "      <th>V61</th>\n",
       "      <th>V62</th>\n",
       "      <th>V63</th>\n",
       "      <th>V64</th>\n",
       "      <th>V65</th>\n",
       "      <th>V66</th>\n",
       "      <th>Class</th>\n",
       "    </tr>\n",
       "  </thead>\n",
       "  <tbody>\n",
       "    <tr>\n",
       "      <th>0</th>\n",
       "      <td>0.001610</td>\n",
       "      <td>0.001852</td>\n",
       "      <td>0.445164</td>\n",
       "      <td>0.710982</td>\n",
       "      <td>0.482693</td>\n",
       "      <td>0.346400</td>\n",
       "      <td>0.786719</td>\n",
       "      <td>0.296912</td>\n",
       "      <td>0.212884</td>\n",
       "      <td>0.414958</td>\n",
       "      <td>...</td>\n",
       "      <td>4</td>\n",
       "      <td>2</td>\n",
       "      <td>2</td>\n",
       "      <td>2</td>\n",
       "      <td>2</td>\n",
       "      <td>2</td>\n",
       "      <td>1</td>\n",
       "      <td>2</td>\n",
       "      <td>2</td>\n",
       "      <td>4</td>\n",
       "    </tr>\n",
       "    <tr>\n",
       "      <th>1</th>\n",
       "      <td>0.127630</td>\n",
       "      <td>0.085961</td>\n",
       "      <td>0.548310</td>\n",
       "      <td>0.907729</td>\n",
       "      <td>0.999993</td>\n",
       "      <td>0.607910</td>\n",
       "      <td>0.184483</td>\n",
       "      <td>0.370349</td>\n",
       "      <td>0.051022</td>\n",
       "      <td>0.696017</td>\n",
       "      <td>...</td>\n",
       "      <td>2</td>\n",
       "      <td>2</td>\n",
       "      <td>2</td>\n",
       "      <td>2</td>\n",
       "      <td>2</td>\n",
       "      <td>4</td>\n",
       "      <td>4</td>\n",
       "      <td>2</td>\n",
       "      <td>2</td>\n",
       "      <td>2</td>\n",
       "    </tr>\n",
       "    <tr>\n",
       "      <th>2</th>\n",
       "      <td>0.034725</td>\n",
       "      <td>0.109288</td>\n",
       "      <td>0.510308</td>\n",
       "      <td>0.922363</td>\n",
       "      <td>0.999993</td>\n",
       "      <td>0.598586</td>\n",
       "      <td>0.159467</td>\n",
       "      <td>0.365388</td>\n",
       "      <td>0.054600</td>\n",
       "      <td>0.720091</td>\n",
       "      <td>...</td>\n",
       "      <td>2</td>\n",
       "      <td>2</td>\n",
       "      <td>2</td>\n",
       "      <td>2</td>\n",
       "      <td>2</td>\n",
       "      <td>2</td>\n",
       "      <td>2</td>\n",
       "      <td>2</td>\n",
       "      <td>2</td>\n",
       "      <td>2</td>\n",
       "    </tr>\n",
       "    <tr>\n",
       "      <th>3</th>\n",
       "      <td>0.033372</td>\n",
       "      <td>0.276992</td>\n",
       "      <td>0.473963</td>\n",
       "      <td>0.927030</td>\n",
       "      <td>0.999993</td>\n",
       "      <td>0.604930</td>\n",
       "      <td>0.140143</td>\n",
       "      <td>0.369037</td>\n",
       "      <td>0.092530</td>\n",
       "      <td>0.730662</td>\n",
       "      <td>...</td>\n",
       "      <td>4</td>\n",
       "      <td>4</td>\n",
       "      <td>4</td>\n",
       "      <td>2</td>\n",
       "      <td>2</td>\n",
       "      <td>2</td>\n",
       "      <td>2</td>\n",
       "      <td>2</td>\n",
       "      <td>4</td>\n",
       "      <td>4</td>\n",
       "    </tr>\n",
       "    <tr>\n",
       "      <th>4</th>\n",
       "      <td>0.171606</td>\n",
       "      <td>0.153857</td>\n",
       "      <td>0.456074</td>\n",
       "      <td>0.928770</td>\n",
       "      <td>0.999993</td>\n",
       "      <td>0.595534</td>\n",
       "      <td>0.121081</td>\n",
       "      <td>0.371288</td>\n",
       "      <td>0.086637</td>\n",
       "      <td>0.736614</td>\n",
       "      <td>...</td>\n",
       "      <td>2</td>\n",
       "      <td>4</td>\n",
       "      <td>4</td>\n",
       "      <td>2</td>\n",
       "      <td>2</td>\n",
       "      <td>2</td>\n",
       "      <td>2</td>\n",
       "      <td>4</td>\n",
       "      <td>4</td>\n",
       "      <td>4</td>\n",
       "    </tr>\n",
       "  </tbody>\n",
       "</table>\n",
       "<p>5 rows × 67 columns</p>\n",
       "</div>"
      ],
      "text/plain": [
       "         V1        V2        V3        V4        V5        V6        V7  \\\n",
       "0  0.001610  0.001852  0.445164  0.710982  0.482693  0.346400  0.786719   \n",
       "1  0.127630  0.085961  0.548310  0.907729  0.999993  0.607910  0.184483   \n",
       "2  0.034725  0.109288  0.510308  0.922363  0.999993  0.598586  0.159467   \n",
       "3  0.033372  0.276992  0.473963  0.927030  0.999993  0.604930  0.140143   \n",
       "4  0.171606  0.153857  0.456074  0.928770  0.999993  0.595534  0.121081   \n",
       "\n",
       "         V8        V9       V10  ...    V58  V59  V60  V61  V62  V63  V64  \\\n",
       "0  0.296912  0.212884  0.414958  ...      4    2    2    2    2    2    1   \n",
       "1  0.370349  0.051022  0.696017  ...      2    2    2    2    2    4    4   \n",
       "2  0.365388  0.054600  0.720091  ...      2    2    2    2    2    2    2   \n",
       "3  0.369037  0.092530  0.730662  ...      4    4    4    2    2    2    2   \n",
       "4  0.371288  0.086637  0.736614  ...      2    4    4    2    2    2    2   \n",
       "\n",
       "   V65  V66  Class  \n",
       "0    2    2      4  \n",
       "1    2    2      2  \n",
       "2    2    2      2  \n",
       "3    2    4      4  \n",
       "4    4    4      4  \n",
       "\n",
       "[5 rows x 67 columns]"
      ]
     },
     "execution_count": 2,
     "metadata": {},
     "output_type": "execute_result"
    }
   ],
   "source": [
    "os.getcwd()\n",
    "os.chdir('../datasets')\n",
    "# dataset = pd.read_csv('Social_Network_Ads.csv')\n",
    "dataset = pd.read_csv('rampdata66.csv')\n",
    "# X = dataset.iloc[:, [2, 3]].values\n",
    "X = dataset.iloc[:, :-1].values\n",
    "y = dataset.iloc[:, 66].values\n",
    "# X = dataset.iloc[:, :-1]\n",
    "# y = dataset.iloc[:, 66]\n",
    "dataset.head()"
   ]
  },
  {
   "cell_type": "markdown",
   "metadata": {},
   "source": [
    "### Choose Some Features from the Input Features"
   ]
  },
  {
   "cell_type": "code",
   "execution_count": 3,
   "metadata": {},
   "outputs": [
    {
     "name": "stdout",
     "output_type": "stream",
     "text": [
      "a= [20, 21, 22, 23, 27, 29, 33, 34, 35, 39, 40, 41, 42, 46, 48, 49, 56, 57, 58, 59, 63, 65, 66]\n",
      "xn= {0, 1, 2, 3, 4, 5, 6, 7, 8, 9, 10, 11, 12, 13, 14, 15, 16, 17, 18, 19, 24, 25, 26, 28, 30, 31, 32, 36, 37, 38, 43, 44, 45, 47, 50, 51, 52, 53, 54, 55, 60, 61, 62, 64}\n"
     ]
    },
    {
     "name": "stderr",
     "output_type": "stream",
     "text": [
      "C:\\Users\\Mhdella\\Anaconda3\\lib\\site-packages\\ipykernel_launcher.py:18: DeprecationWarning: in the future out of bounds indices will raise an error instead of being ignored by `numpy.delete`.\n"
     ]
    },
    {
     "data": {
      "text/plain": [
       "(3828, 44)"
      ]
     },
     "execution_count": 3,
     "metadata": {},
     "output_type": "execute_result"
    }
   ],
   "source": [
    "# a=[7,8,21,22,40,41,57,58]\n",
    "# a=[7,8,9,21,22,23,40,41,42,57,58,59]\n",
    "# a=[7,8,9,21,22,23,33,34,35,40,41,42,50,51,52,57,58,59]\n",
    "# a=[6,7,8,9,20,21,22,23,32,33,34,35,39,40,41,42,49,50,51,52,56,57,58,59]\n",
    "# a=[6,7,8,9,20,21,22,23,27,29,32,33,34,35,39,40,41,42,46,48,49,50,51,52,56,57,58,59,63,66]\n",
    "\n",
    "a=[20,21,22,23,27,29,33,34,35,39,40,41,42,46,48,49,56,57,58,59,63,65,66]\n",
    "\n",
    "# a=n=np.arange(50,66)\n",
    "# a=n=np.arange(55,66)\n",
    "\n",
    "# n=np.arange(0,66)\n",
    "n=66\n",
    "xn = set(range(n)) - set(a)\n",
    "print('a=',a)\n",
    "print('xn=',xn)\n",
    "\n",
    "xf=np.delete(X,np.s_[a], axis=1)\n",
    "\n",
    "xf.shape"
   ]
  },
  {
   "cell_type": "code",
   "execution_count": 4,
   "metadata": {},
   "outputs": [],
   "source": [
    "X=xf"
   ]
  },
  {
   "cell_type": "markdown",
   "metadata": {},
   "source": [
    "## Encoding categorical data"
   ]
  },
  {
   "cell_type": "code",
   "execution_count": 5,
   "metadata": {},
   "outputs": [],
   "source": [
    "# from sklearn.preprocessing import LabelEncoder, OneHotEncoder\n",
    "# labelencoder_X = LabelEncoder()\n",
    "# X[ : , 1] = labelencoder_X.fit_transform(X[ : , 1])\n",
    "# X"
   ]
  },
  {
   "cell_type": "markdown",
   "metadata": {},
   "source": [
    "## Splitting the dataset into the Training set and Test set"
   ]
  },
  {
   "cell_type": "code",
   "execution_count": 6,
   "metadata": {},
   "outputs": [],
   "source": [
    "from sklearn.model_selection import train_test_split\n",
    "X_train, X_test, y_train, y_test = train_test_split(X, y, test_size = 0.25, random_state = 0)"
   ]
  },
  {
   "cell_type": "markdown",
   "metadata": {},
   "source": [
    "## Feature Scaling"
   ]
  },
  {
   "cell_type": "code",
   "execution_count": 7,
   "metadata": {},
   "outputs": [],
   "source": [
    "# from sklearn.preprocessing import StandardScaler\n",
    "# sc = StandardScaler()\n",
    "# X_train = sc.fit_transform(X_train)\n",
    "# X_test = sc.transform(X_test)"
   ]
  },
  {
   "cell_type": "markdown",
   "metadata": {},
   "source": [
    "### Cross-validation for the model: \n",
    "Fitting 2 folds for each of 80 candidates, totalling 160 fits,  (it takes time about < 5mins)\n",
    "\n",
    "https://scikit-learn.org/stable/modules/model_evaluation.html\n",
    "{'learning_rate': 0.01, 'max_depth': 4, 'n_estimators': 500}"
   ]
  },
  {
   "cell_type": "code",
   "execution_count": 8,
   "metadata": {},
   "outputs": [
    {
     "name": "stdout",
     "output_type": "stream",
     "text": [
      "Fitting 2 folds for each of 80 candidates, totalling 160 fits\n"
     ]
    },
    {
     "name": "stderr",
     "output_type": "stream",
     "text": [
      "[Parallel(n_jobs=4)]: Using backend LokyBackend with 4 concurrent workers.\n",
      "[Parallel(n_jobs=4)]: Done  24 tasks      | elapsed:   33.0s\n",
      "[Parallel(n_jobs=4)]: Done 120 tasks      | elapsed:  3.0min\n",
      "[Parallel(n_jobs=4)]: Done 160 out of 160 | elapsed:  3.4min finished\n"
     ]
    },
    {
     "name": "stdout",
     "output_type": "stream",
     "text": [
      "{'learning_rate': 0.01, 'max_depth': 4, 'n_estimators': 500}\n"
     ]
    }
   ],
   "source": [
    "from sklearn import metrics   ##Additional scklearn functions\n",
    "from sklearn.model_selection import cross_validate\n",
    "from sklearn.model_selection import GridSearchCV   #Perforing grid search\n",
    "\n",
    "from xgboost.sklearn import XGBClassifier\n",
    "model = XGBClassifier(criterion = 'entropy', random_state=0, class_weight='balanced')\n",
    "\n",
    "test_params = {'n_estimators':[100, 200, 300, 400, 500], 'max_depth':[2,4,8,12], 'learning_rate': [0.01, 0.1, 0.5, 1]}\n",
    "\n",
    "grid = GridSearchCV(estimator = model, param_grid = test_params, n_jobs=4, \n",
    "                    scoring='f1_weighted',cv=2, verbose=3)\n",
    "\n",
    "grid.fit(X_train,y_train)\n",
    "print(grid.best_params_)"
   ]
  },
  {
   "cell_type": "markdown",
   "metadata": {},
   "source": [
    "### Fitting the model\n",
    "Evaluate metric(s) by cross-validation and also record fit/score times.\n",
    "\n",
    "https://scikit-learn.org/stable/modules/generated/sklearn.model_selection.cross_validate.html\n",
    "\n",
    "https://scikit-learn.org/stable/modules/cross_validation.html"
   ]
  },
  {
   "cell_type": "code",
   "execution_count": 64,
   "metadata": {},
   "outputs": [],
   "source": [
    "from sklearn import metrics   ##Additional scklearn functions\n",
    "from sklearn.model_selection import cross_validate\n",
    "from sklearn.metrics.scorer import make_scorer\n",
    "from sklearn.metrics import confusion_matrix\n",
    "from xgboost.sklearn import XGBClassifier\n",
    "\n",
    "# params={'learning_rate': 0.01, 'max_depth': 4, 'n_estimators': 500}\n",
    "\n",
    "params={'max_depth': 12,'min_samples_split': 100, 'n_estimators': 300, 'learning_rate': 0.1}\n",
    "# classifier = XGBClassifier(**params, criterion = 'entropy', random_state=0, class_weight='balanced')\n",
    "classifier = XGBClassifier(**params, criterion = 'entropy', random_state=0, scale_pos_weight=[7.30534351,  0.74186047, 30.87096774,  0.40277778])\n",
    "\n",
    "cv_results = cross_validate(classifier, X, y, cv=2)"
   ]
  },
  {
   "cell_type": "markdown",
   "metadata": {},
   "source": [
    "## Random Search for Feature Selection"
   ]
  },
  {
   "cell_type": "code",
   "execution_count": 65,
   "metadata": {},
   "outputs": [],
   "source": [
    "# from sklearn.model_selection import cross_val_score\n",
    "\n",
    "# result = []# Number of iterations\n",
    "# # N_search = 300# Random seed initialization\n",
    "# N_search = 10# Random seed initialization\n",
    "\n",
    "# np.random.seed(1)\n",
    "# for i in range(N_search):\n",
    "#     # Generate a random number of features\n",
    "#     N_columns =  list(np.random.choice(range(X.shape[1]),1)+1)\n",
    "# #     N_columns =  list(np.random.choice(range(5),1)+1)\n",
    "\n",
    "    \n",
    "#     # Given the number of features, generate features without replacement\n",
    "#     columns = list(np.random.choice(range(X.shape[1]), N_columns, replace=False))\n",
    "# #     columns = list(np.random.choice(range(5), N_columns, replace=False))\n",
    "\n",
    "    \n",
    "#     # Perform k-fold cross validation\n",
    "# #     scores = cross_val_score(classifier,X[:,columns], y, cv=2, scoring=\"accuracy\")\n",
    "# #     scores = cross_val_score(classifier,X[:,columns], y, cv=2, scoring=\"f1_micro\")\n",
    "#     scores = cross_val_score(classifier,X[:,columns], y, cv=2, scoring=\"f1_weighted\")\n",
    "\n",
    "\n",
    "#     # Store the result\n",
    "#     result.append({'columns':columns,'performance':np.mean(scores)})\n",
    "#     # Sort the result array in descending order for performance measure\n",
    "# result.sort(key=lambda x : -x['performance'])"
   ]
  },
  {
   "cell_type": "markdown",
   "metadata": {},
   "source": [
    "inputs=X[0, 1, 2, 3, 4, 5, 6, 7, 8, 9, 10, 11, 12, 13, 14, 15, 16, 17, 18, 19, 24, 25, 26, 28, 30, 31, 32, 36, 37, 38, 43, 44, 45, 47, 50, 51, 52, 53, 54, 55, 60, 61, 62, 64]\n",
    "\n",
    "By using class_weight='balanced', with search  N_search=1000 and just use the best selected features that gives True Hi_Ramps= 82\n",
    "slsected features=[35, 38, 1, 19, 9, 14, 39, 37, 24, 7, 6, 5, 22, 18, 32, 10, 4, 15, 13]  19\n",
    "\n",
    "gives True_Hi_Ramps=83 and False_Hi_Ramps=57.\n"
   ]
  },
  {
   "cell_type": "code",
   "execution_count": 66,
   "metadata": {},
   "outputs": [],
   "source": [
    "# # result[0]\n",
    "# # X[:,result[0]['columns']]\n",
    "# print(result[0]['columns'])\n",
    "# print(len(result[0]['columns']))\n",
    "# # print(result[N_search-1]['columns'])\n",
    "# # print(pd.Series(range(1,5))) "
   ]
  },
  {
   "cell_type": "code",
   "execution_count": 67,
   "metadata": {},
   "outputs": [
    {
     "name": "stderr",
     "output_type": "stream",
     "text": [
      "C:\\Users\\Mhdella\\Anaconda3\\lib\\site-packages\\sklearn\\utils\\deprecation.py:125: FutureWarning: You are accessing a training score ('train_score'), which will not be available by default any more in 0.21. If you need training scores, please set return_train_score=True\n",
      "  warnings.warn(*warn_args, **warn_kwargs)\n"
     ]
    },
    {
     "data": {
      "text/plain": [
       "{'fit_time': array([5.3753376 , 5.68182206]),\n",
       " 'score_time': array([0.10675693, 0.09373879]),\n",
       " 'test_score': array([0.84751958, 0.86356508]),\n",
       " 'train_score': array([1., 1.])}"
      ]
     },
     "execution_count": 67,
     "metadata": {},
     "output_type": "execute_result"
    }
   ],
   "source": [
    "cv_results"
   ]
  },
  {
   "cell_type": "code",
   "execution_count": 68,
   "metadata": {},
   "outputs": [
    {
     "data": {
      "text/plain": [
       "3828"
      ]
     },
     "execution_count": 68,
     "metadata": {},
     "output_type": "execute_result"
    }
   ],
   "source": [
    "sum(y_train.shape+y_test.shape)"
   ]
  },
  {
   "cell_type": "markdown",
   "metadata": {},
   "source": [
    "## Single metric evaluation using cross_validate"
   ]
  },
  {
   "cell_type": "code",
   "execution_count": 69,
   "metadata": {},
   "outputs": [
    {
     "data": {
      "text/plain": [
       "array([0.84751958, 0.86356508])"
      ]
     },
     "execution_count": 69,
     "metadata": {},
     "output_type": "execute_result"
    }
   ],
   "source": [
    "sorted(cv_results.keys())                         \n",
    "['fit_time', 'score_time', 'test_score']\n",
    "cv_results['test_score']    "
   ]
  },
  {
   "cell_type": "markdown",
   "metadata": {},
   "source": [
    "## Making the Confusion Matrix\n",
    "#### We can use this value to calculate the new performance measure with this subset of the features."
   ]
  },
  {
   "cell_type": "code",
   "execution_count": 70,
   "metadata": {},
   "outputs": [
    {
     "data": {
      "text/plain": [
       "array([[  56,   40,    0,    1],\n",
       "       [  74, 1032,    2,  195],\n",
       "       [   0,    1,   10,    3],\n",
       "       [   1,  217,   19, 2177]], dtype=int64)"
      ]
     },
     "execution_count": 70,
     "metadata": {},
     "output_type": "execute_result"
    }
   ],
   "source": [
    "from sklearn.model_selection import cross_val_predict\n",
    "# y_pred = cross_val_predict(classifier, X, y, cv=2)\n",
    "# y_pred = cross_val_predict(classifier, X[:,result[0]['columns']], y, cv=2)\n",
    "\n",
    "y_pred = cross_val_predict(classifier, X, y, cv=2)\n",
    "\n",
    "# y_pred = cross_val_predict(classifier, X[:,result[N_search-1]['columns']], y, cv=2)\n",
    "# y_pred = cross_val_predict(classifier, X[:,result[N_search-(N_search-1)]['columns']], y, cv=2)\n",
    "\n",
    "\n",
    "from sklearn.metrics import confusion_matrix\n",
    "cm = confusion_matrix(y_pred, y)\n",
    "cm"
   ]
  },
  {
   "cell_type": "code",
   "execution_count": 71,
   "metadata": {},
   "outputs": [
    {
     "name": "stdout",
     "output_type": "stream",
     "text": [
      "True Hi_Ramps= 66\n",
      "False Hi_Ramps= 96\n"
     ]
    }
   ],
   "source": [
    "print('True Hi_Ramps=',cm[0,0]+cm[2,2])\n",
    "print('False Hi_Ramps=',cm[1,0]+cm[2,0]+cm[3,0]+cm[0,2]+cm[1,2]+cm[3,2])"
   ]
  },
  {
   "cell_type": "code",
   "execution_count": 63,
   "metadata": {},
   "outputs": [
    {
     "data": {
      "text/plain": [
       "array([0.49122807, 0.7959892 , 0.44444444, 0.90897704])"
      ]
     },
     "execution_count": 63,
     "metadata": {},
     "output_type": "execute_result"
    }
   ],
   "source": [
    "from sklearn.metrics import f1_score\n",
    "f1_score(y, y_pred, average=None)"
   ]
  },
  {
   "cell_type": "markdown",
   "metadata": {},
   "source": [
    "####  Multiple metric evaluation using cross_validate "
   ]
  },
  {
   "cell_type": "code",
   "execution_count": 50,
   "metadata": {},
   "outputs": [],
   "source": [
    "# # scores = cross_validate(classifier, X, y, cv=2, scoring=('f1_weighted'), return_train_score=True)\n",
    "# scores = cross_validate(classifier, X[:,result[0]['columns']], y, cv=2, scoring=('f1_weighted'), \n",
    "#                            return_train_score=True)"
   ]
  },
  {
   "cell_type": "code",
   "execution_count": 51,
   "metadata": {},
   "outputs": [],
   "source": [
    "# # print(scores['train_f1_weighted'])   \n",
    "# # print(scores['f1_weighted'])   \n",
    "# scores\n",
    "# # train_f1_weighted"
   ]
  },
  {
   "cell_type": "markdown",
   "metadata": {},
   "source": [
    "## Analysis on the outcomes y, (classes of solar ramp events)"
   ]
  },
  {
   "cell_type": "code",
   "execution_count": 52,
   "metadata": {},
   "outputs": [
    {
     "name": "stdout",
     "output_type": "stream",
     "text": [
      "C1= 131 C2= 1290 C3= 31 C4= 2376\n"
     ]
    }
   ],
   "source": [
    "y.shape\n",
    "len(y)\n",
    "print('C1=', len(y[y==1]),'C2=', len(y[y==2]),\n",
    "      'C3=', len(y[y==3]),'C4=', len(y[y==4]))"
   ]
  },
  {
   "cell_type": "code",
   "execution_count": 53,
   "metadata": {},
   "outputs": [
    {
     "data": {
      "text/plain": [
       "(3828, 44)"
      ]
     },
     "execution_count": 53,
     "metadata": {},
     "output_type": "execute_result"
    }
   ],
   "source": [
    "X.shape"
   ]
  },
  {
   "cell_type": "code",
   "execution_count": 54,
   "metadata": {},
   "outputs": [
    {
     "data": {
      "text/plain": [
       "XGBClassifier(base_score=0.5, booster='gbtree', colsample_bylevel=1,\n",
       "       colsample_bytree=1, criterion='entropy', gamma=0, learning_rate=0.1,\n",
       "       max_delta_step=0, max_depth=12, min_child_weight=1,\n",
       "       min_samples_split=100, missing=None, n_estimators=300, n_jobs=1,\n",
       "       nthread=None, objective='binary:logistic', random_state=0,\n",
       "       reg_alpha=0, reg_lambda=1,\n",
       "       scale_pos_weight=[7.30534351, 0.74186047, 30.87096774, 0.40277778],\n",
       "       seed=None, silent=True, subsample=1)"
      ]
     },
     "execution_count": 54,
     "metadata": {},
     "output_type": "execute_result"
    }
   ],
   "source": [
    "classifier"
   ]
  },
  {
   "cell_type": "code",
   "execution_count": 40,
   "metadata": {},
   "outputs": [
    {
     "name": "stderr",
     "output_type": "stream",
     "text": [
      "C:\\Users\\Mhdella\\Anaconda3\\lib\\site-packages\\ipykernel_launcher.py:2: RuntimeWarning: divide by zero encountered in true_divide\n",
      "  \n"
     ]
    },
    {
     "data": {
      "text/plain": [
       "array([        inf,  7.30534351,  0.74186047, 30.87096774,  0.40277778])"
      ]
     },
     "execution_count": 40,
     "metadata": {},
     "output_type": "execute_result"
    }
   ],
   "source": [
    "###n_samples / (n_classes * np.bincount(y))\n",
    "3828 / (4 * np.bincount(y))"
   ]
  },
  {
   "cell_type": "code",
   "execution_count": 31,
   "metadata": {},
   "outputs": [
    {
     "data": {
      "text/plain": [
       "array([   0,  131, 1290,   31, 2376], dtype=int64)"
      ]
     },
     "execution_count": 31,
     "metadata": {},
     "output_type": "execute_result"
    }
   ],
   "source": [
    "np.bincount(y)"
   ]
  },
  {
   "cell_type": "code",
   "execution_count": 38,
   "metadata": {},
   "outputs": [
    {
     "data": {
      "text/plain": [
       "array([3828], dtype=int64)"
      ]
     },
     "execution_count": 38,
     "metadata": {},
     "output_type": "execute_result"
    }
   ],
   "source": [
    "np.bincount(y==0)"
   ]
  },
  {
   "cell_type": "code",
   "execution_count": null,
   "metadata": {},
   "outputs": [],
   "source": []
  },
  {
   "cell_type": "code",
   "execution_count": null,
   "metadata": {},
   "outputs": [],
   "source": []
  }
 ],
 "metadata": {
  "kernelspec": {
   "display_name": "Python 3",
   "language": "python",
   "name": "python3"
  },
  "language_info": {
   "codemirror_mode": {
    "name": "ipython",
    "version": 3
   },
   "file_extension": ".py",
   "mimetype": "text/x-python",
   "name": "python",
   "nbconvert_exporter": "python",
   "pygments_lexer": "ipython3",
   "version": "3.7.0"
  }
 },
 "nbformat": 4,
 "nbformat_minor": 2
}
